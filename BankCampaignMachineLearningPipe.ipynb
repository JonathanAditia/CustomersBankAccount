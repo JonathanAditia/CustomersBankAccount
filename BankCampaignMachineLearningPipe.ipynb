{
 "cells": [
  {
   "cell_type": "markdown",
   "metadata": {},
   "source": [
    "## Machine Learning\n",
    "\n",
    "**Classify Potential And Unpotential Customers On Accepting Term Deposit Offers**\n",
    "\n",
    "## Conclusion\n",
    "\n",
    "**Random Forest Classifier Is The Best Model For Marketing Bank Term Deposit During Crisis**\n",
    "\n",
    "**Random Forest Classifier Has A Good Recall, Accompanied With A Relatively Good Precision**\n",
    "\n",
    "**This Model Might Dramaticaly Reduce The Marketing Expenses, Yet Still Highly Effective To Reach A Wide Number of Potential Customers**"
   ]
  },
  {
   "cell_type": "code",
   "execution_count": 1,
   "metadata": {},
   "outputs": [],
   "source": [
    "import pandas as pd\n",
    "import numpy as np\n",
    "import matplotlib.pyplot as plt\n",
    "import seaborn as sns\n",
    "import warnings\n",
    "warnings.filterwarnings('ignore')\n",
    "\n",
    "%matplotlib inline"
   ]
  },
  {
   "cell_type": "code",
   "execution_count": 2,
   "metadata": {},
   "outputs": [
    {
     "data": {
      "text/html": [
       "<div>\n",
       "<style scoped>\n",
       "    .dataframe tbody tr th:only-of-type {\n",
       "        vertical-align: middle;\n",
       "    }\n",
       "\n",
       "    .dataframe tbody tr th {\n",
       "        vertical-align: top;\n",
       "    }\n",
       "\n",
       "    .dataframe thead th {\n",
       "        text-align: right;\n",
       "    }\n",
       "</style>\n",
       "<table border=\"1\" class=\"dataframe\">\n",
       "  <thead>\n",
       "    <tr style=\"text-align: right;\">\n",
       "      <th></th>\n",
       "      <th>age</th>\n",
       "      <th>job</th>\n",
       "      <th>marital</th>\n",
       "      <th>education</th>\n",
       "      <th>default</th>\n",
       "      <th>housing</th>\n",
       "      <th>loan</th>\n",
       "      <th>contact</th>\n",
       "      <th>month</th>\n",
       "      <th>day_of_week</th>\n",
       "      <th>...</th>\n",
       "      <th>campaign</th>\n",
       "      <th>pdays</th>\n",
       "      <th>previous</th>\n",
       "      <th>poutcome</th>\n",
       "      <th>emp.var.rate</th>\n",
       "      <th>cons.price.idx</th>\n",
       "      <th>cons.conf.idx</th>\n",
       "      <th>euribor3m</th>\n",
       "      <th>nr.employed</th>\n",
       "      <th>y</th>\n",
       "    </tr>\n",
       "  </thead>\n",
       "  <tbody>\n",
       "    <tr>\n",
       "      <th>0</th>\n",
       "      <td>56</td>\n",
       "      <td>housemaid</td>\n",
       "      <td>married</td>\n",
       "      <td>basic.4y</td>\n",
       "      <td>no</td>\n",
       "      <td>no</td>\n",
       "      <td>no</td>\n",
       "      <td>telephone</td>\n",
       "      <td>may</td>\n",
       "      <td>mon</td>\n",
       "      <td>...</td>\n",
       "      <td>1</td>\n",
       "      <td>999</td>\n",
       "      <td>0</td>\n",
       "      <td>nonexistent</td>\n",
       "      <td>1.1</td>\n",
       "      <td>93.994</td>\n",
       "      <td>-36.4</td>\n",
       "      <td>4.857</td>\n",
       "      <td>5191.0</td>\n",
       "      <td>no</td>\n",
       "    </tr>\n",
       "    <tr>\n",
       "      <th>1</th>\n",
       "      <td>57</td>\n",
       "      <td>services</td>\n",
       "      <td>married</td>\n",
       "      <td>high.school</td>\n",
       "      <td>unknown</td>\n",
       "      <td>no</td>\n",
       "      <td>no</td>\n",
       "      <td>telephone</td>\n",
       "      <td>may</td>\n",
       "      <td>mon</td>\n",
       "      <td>...</td>\n",
       "      <td>1</td>\n",
       "      <td>999</td>\n",
       "      <td>0</td>\n",
       "      <td>nonexistent</td>\n",
       "      <td>1.1</td>\n",
       "      <td>93.994</td>\n",
       "      <td>-36.4</td>\n",
       "      <td>4.857</td>\n",
       "      <td>5191.0</td>\n",
       "      <td>no</td>\n",
       "    </tr>\n",
       "    <tr>\n",
       "      <th>2</th>\n",
       "      <td>37</td>\n",
       "      <td>services</td>\n",
       "      <td>married</td>\n",
       "      <td>high.school</td>\n",
       "      <td>no</td>\n",
       "      <td>yes</td>\n",
       "      <td>no</td>\n",
       "      <td>telephone</td>\n",
       "      <td>may</td>\n",
       "      <td>mon</td>\n",
       "      <td>...</td>\n",
       "      <td>1</td>\n",
       "      <td>999</td>\n",
       "      <td>0</td>\n",
       "      <td>nonexistent</td>\n",
       "      <td>1.1</td>\n",
       "      <td>93.994</td>\n",
       "      <td>-36.4</td>\n",
       "      <td>4.857</td>\n",
       "      <td>5191.0</td>\n",
       "      <td>no</td>\n",
       "    </tr>\n",
       "    <tr>\n",
       "      <th>3</th>\n",
       "      <td>40</td>\n",
       "      <td>admin.</td>\n",
       "      <td>married</td>\n",
       "      <td>basic.6y</td>\n",
       "      <td>no</td>\n",
       "      <td>no</td>\n",
       "      <td>no</td>\n",
       "      <td>telephone</td>\n",
       "      <td>may</td>\n",
       "      <td>mon</td>\n",
       "      <td>...</td>\n",
       "      <td>1</td>\n",
       "      <td>999</td>\n",
       "      <td>0</td>\n",
       "      <td>nonexistent</td>\n",
       "      <td>1.1</td>\n",
       "      <td>93.994</td>\n",
       "      <td>-36.4</td>\n",
       "      <td>4.857</td>\n",
       "      <td>5191.0</td>\n",
       "      <td>no</td>\n",
       "    </tr>\n",
       "    <tr>\n",
       "      <th>4</th>\n",
       "      <td>56</td>\n",
       "      <td>services</td>\n",
       "      <td>married</td>\n",
       "      <td>high.school</td>\n",
       "      <td>no</td>\n",
       "      <td>no</td>\n",
       "      <td>yes</td>\n",
       "      <td>telephone</td>\n",
       "      <td>may</td>\n",
       "      <td>mon</td>\n",
       "      <td>...</td>\n",
       "      <td>1</td>\n",
       "      <td>999</td>\n",
       "      <td>0</td>\n",
       "      <td>nonexistent</td>\n",
       "      <td>1.1</td>\n",
       "      <td>93.994</td>\n",
       "      <td>-36.4</td>\n",
       "      <td>4.857</td>\n",
       "      <td>5191.0</td>\n",
       "      <td>no</td>\n",
       "    </tr>\n",
       "  </tbody>\n",
       "</table>\n",
       "<p>5 rows × 21 columns</p>\n",
       "</div>"
      ],
      "text/plain": [
       "   age        job  marital    education  default housing loan    contact  \\\n",
       "0   56  housemaid  married     basic.4y       no      no   no  telephone   \n",
       "1   57   services  married  high.school  unknown      no   no  telephone   \n",
       "2   37   services  married  high.school       no     yes   no  telephone   \n",
       "3   40     admin.  married     basic.6y       no      no   no  telephone   \n",
       "4   56   services  married  high.school       no      no  yes  telephone   \n",
       "\n",
       "  month day_of_week  ...  campaign  pdays  previous     poutcome emp.var.rate  \\\n",
       "0   may         mon  ...         1    999         0  nonexistent          1.1   \n",
       "1   may         mon  ...         1    999         0  nonexistent          1.1   \n",
       "2   may         mon  ...         1    999         0  nonexistent          1.1   \n",
       "3   may         mon  ...         1    999         0  nonexistent          1.1   \n",
       "4   may         mon  ...         1    999         0  nonexistent          1.1   \n",
       "\n",
       "   cons.price.idx  cons.conf.idx  euribor3m  nr.employed   y  \n",
       "0          93.994          -36.4      4.857       5191.0  no  \n",
       "1          93.994          -36.4      4.857       5191.0  no  \n",
       "2          93.994          -36.4      4.857       5191.0  no  \n",
       "3          93.994          -36.4      4.857       5191.0  no  \n",
       "4          93.994          -36.4      4.857       5191.0  no  \n",
       "\n",
       "[5 rows x 21 columns]"
      ]
     },
     "execution_count": 2,
     "metadata": {},
     "output_type": "execute_result"
    }
   ],
   "source": [
    "df = pd.read_csv('bank_marketing_campaign.csv',sep=';')\n",
    "df.head()"
   ]
  },
  {
   "cell_type": "markdown",
   "metadata": {},
   "source": [
    "**Data Preprocessing**"
   ]
  },
  {
   "cell_type": "markdown",
   "metadata": {},
   "source": [
    "Handling Missing Value"
   ]
  },
  {
   "cell_type": "code",
   "execution_count": 3,
   "metadata": {
    "scrolled": true
   },
   "outputs": [],
   "source": [
    "df.drop(columns='pdays', inplace=True)\n"
   ]
  },
  {
   "cell_type": "markdown",
   "metadata": {},
   "source": [
    "Drop Unecessary Columns"
   ]
  },
  {
   "cell_type": "code",
   "execution_count": 4,
   "metadata": {},
   "outputs": [],
   "source": [
    "df.drop(columns='duration', inplace=True)\n",
    "\n",
    "df.drop(columns='emp.var.rate', inplace=True)\n",
    "df.drop(columns='cons.conf.idx', inplace=True)\n",
    "df.drop(columns='cons.price.idx', inplace=True)"
   ]
  },
  {
   "cell_type": "markdown",
   "metadata": {},
   "source": [
    "Change Data Type"
   ]
  },
  {
   "cell_type": "code",
   "execution_count": 5,
   "metadata": {},
   "outputs": [],
   "source": [
    "df['y'] = df['y'].map({\n",
    "    'no' : 0,\n",
    "    'yes' : 1\n",
    "})\n",
    "df['y'] = df['y'].astype(int)"
   ]
  },
  {
   "cell_type": "markdown",
   "metadata": {},
   "source": [
    "**Splitting Imbalance Data**"
   ]
  },
  {
   "cell_type": "code",
   "execution_count": 6,
   "metadata": {},
   "outputs": [],
   "source": [
    "from sklearn.model_selection import train_test_split"
   ]
  },
  {
   "cell_type": "code",
   "execution_count": 7,
   "metadata": {},
   "outputs": [],
   "source": [
    "X = df.drop(columns='y')\n",
    "y = df['y']\n",
    "\n",
    "X_train, X_test, y_train, y_test = train_test_split(X, y, train_size = .90, stratify = y,random_state = 42)"
   ]
  },
  {
   "cell_type": "markdown",
   "metadata": {},
   "source": [
    "**Checking Imbalance Dataset**"
   ]
  },
  {
   "cell_type": "code",
   "execution_count": 8,
   "metadata": {},
   "outputs": [],
   "source": [
    "df_train = pd.concat([X_train, y_train], axis=1)"
   ]
  },
  {
   "cell_type": "code",
   "execution_count": 9,
   "metadata": {
    "scrolled": true
   },
   "outputs": [
    {
     "data": {
      "text/plain": [
       "0    32893\n",
       "1     4176\n",
       "Name: y, dtype: int64"
      ]
     },
     "execution_count": 9,
     "metadata": {},
     "output_type": "execute_result"
    }
   ],
   "source": [
    "df_train['y'].value_counts()"
   ]
  },
  {
   "cell_type": "markdown",
   "metadata": {},
   "source": [
    "**Over Sampled**"
   ]
  },
  {
   "cell_type": "code",
   "execution_count": 10,
   "metadata": {},
   "outputs": [],
   "source": [
    "from sklearn.utils import resample"
   ]
  },
  {
   "cell_type": "code",
   "execution_count": 11,
   "metadata": {},
   "outputs": [],
   "source": [
    "response_no = df_train[df_train['y'] == 0]\n",
    "response_yes = df_train[df_train['y'] == 1]\n",
    "\n",
    "response_Oversample = resample(response_yes,\n",
    "                           replace=True,\n",
    "                           n_samples = len(response_no),\n",
    "                           random_state = 42)"
   ]
  },
  {
   "cell_type": "code",
   "execution_count": 12,
   "metadata": {
    "scrolled": true
   },
   "outputs": [
    {
     "data": {
      "text/plain": [
       "1    32893\n",
       "0    32893\n",
       "Name: y, dtype: int64"
      ]
     },
     "execution_count": 12,
     "metadata": {},
     "output_type": "execute_result"
    }
   ],
   "source": [
    "df_OverSampled = pd.concat([response_no, response_Oversample])\n",
    "\n",
    "df_OverSampled['y'].value_counts()"
   ]
  },
  {
   "cell_type": "code",
   "execution_count": 13,
   "metadata": {},
   "outputs": [],
   "source": [
    "df = df_OverSampled"
   ]
  },
  {
   "cell_type": "markdown",
   "metadata": {},
   "source": [
    "**Machine Learning Preprocessing**"
   ]
  },
  {
   "cell_type": "markdown",
   "metadata": {},
   "source": [
    "Defined Variable for Oversampled Train"
   ]
  },
  {
   "cell_type": "code",
   "execution_count": 14,
   "metadata": {},
   "outputs": [],
   "source": [
    "X_train = df.drop(columns='y')\n",
    "y_train = df['y']"
   ]
  },
  {
   "cell_type": "markdown",
   "metadata": {},
   "source": [
    "**Machine Learning**"
   ]
  },
  {
   "cell_type": "code",
   "execution_count": 15,
   "metadata": {},
   "outputs": [],
   "source": [
    "from sklearn.pipeline import Pipeline\n",
    "from sklearn.impute import SimpleImputer\n",
    "from sklearn.preprocessing import OneHotEncoder, LabelEncoder, MinMaxScaler, StandardScaler, RobustScaler\n",
    "from sklearn.linear_model import LogisticRegression\n",
    "from sklearn.neighbors import KNeighborsClassifier\n",
    "from sklearn.ensemble import RandomForestClassifier\n",
    "from sklearn.svm import SVC\n",
    "from sklearn.compose import ColumnTransformer\n",
    "from sklearn.metrics import classification_report, confusion_matrix, recall_score, precision_score, f1_score, accuracy_score"
   ]
  },
  {
   "cell_type": "code",
   "execution_count": 16,
   "metadata": {},
   "outputs": [
    {
     "data": {
      "text/html": [
       "<div>\n",
       "<style scoped>\n",
       "    .dataframe tbody tr th:only-of-type {\n",
       "        vertical-align: middle;\n",
       "    }\n",
       "\n",
       "    .dataframe tbody tr th {\n",
       "        vertical-align: top;\n",
       "    }\n",
       "\n",
       "    .dataframe thead th {\n",
       "        text-align: right;\n",
       "    }\n",
       "</style>\n",
       "<table border=\"1\" class=\"dataframe\">\n",
       "  <thead>\n",
       "    <tr style=\"text-align: right;\">\n",
       "      <th></th>\n",
       "      <th>age</th>\n",
       "      <th>job</th>\n",
       "      <th>marital</th>\n",
       "      <th>education</th>\n",
       "      <th>default</th>\n",
       "      <th>housing</th>\n",
       "      <th>loan</th>\n",
       "      <th>contact</th>\n",
       "      <th>month</th>\n",
       "      <th>day_of_week</th>\n",
       "      <th>campaign</th>\n",
       "      <th>previous</th>\n",
       "      <th>poutcome</th>\n",
       "      <th>euribor3m</th>\n",
       "      <th>nr.employed</th>\n",
       "      <th>y</th>\n",
       "    </tr>\n",
       "  </thead>\n",
       "  <tbody>\n",
       "    <tr>\n",
       "      <th>8061</th>\n",
       "      <td>52</td>\n",
       "      <td>technician</td>\n",
       "      <td>divorced</td>\n",
       "      <td>professional.course</td>\n",
       "      <td>unknown</td>\n",
       "      <td>yes</td>\n",
       "      <td>no</td>\n",
       "      <td>telephone</td>\n",
       "      <td>jun</td>\n",
       "      <td>mon</td>\n",
       "      <td>8</td>\n",
       "      <td>0</td>\n",
       "      <td>nonexistent</td>\n",
       "      <td>4.865</td>\n",
       "      <td>5228.1</td>\n",
       "      <td>0</td>\n",
       "    </tr>\n",
       "    <tr>\n",
       "      <th>25300</th>\n",
       "      <td>36</td>\n",
       "      <td>management</td>\n",
       "      <td>married</td>\n",
       "      <td>university.degree</td>\n",
       "      <td>no</td>\n",
       "      <td>yes</td>\n",
       "      <td>no</td>\n",
       "      <td>cellular</td>\n",
       "      <td>nov</td>\n",
       "      <td>tue</td>\n",
       "      <td>2</td>\n",
       "      <td>0</td>\n",
       "      <td>nonexistent</td>\n",
       "      <td>4.153</td>\n",
       "      <td>5195.8</td>\n",
       "      <td>0</td>\n",
       "    </tr>\n",
       "    <tr>\n",
       "      <th>17667</th>\n",
       "      <td>53</td>\n",
       "      <td>blue-collar</td>\n",
       "      <td>married</td>\n",
       "      <td>high.school</td>\n",
       "      <td>no</td>\n",
       "      <td>yes</td>\n",
       "      <td>yes</td>\n",
       "      <td>cellular</td>\n",
       "      <td>jul</td>\n",
       "      <td>mon</td>\n",
       "      <td>2</td>\n",
       "      <td>0</td>\n",
       "      <td>nonexistent</td>\n",
       "      <td>4.962</td>\n",
       "      <td>5228.1</td>\n",
       "      <td>0</td>\n",
       "    </tr>\n",
       "    <tr>\n",
       "      <th>37400</th>\n",
       "      <td>45</td>\n",
       "      <td>blue-collar</td>\n",
       "      <td>single</td>\n",
       "      <td>basic.9y</td>\n",
       "      <td>no</td>\n",
       "      <td>yes</td>\n",
       "      <td>no</td>\n",
       "      <td>cellular</td>\n",
       "      <td>aug</td>\n",
       "      <td>wed</td>\n",
       "      <td>1</td>\n",
       "      <td>1</td>\n",
       "      <td>success</td>\n",
       "      <td>0.879</td>\n",
       "      <td>5076.2</td>\n",
       "      <td>0</td>\n",
       "    </tr>\n",
       "    <tr>\n",
       "      <th>4629</th>\n",
       "      <td>60</td>\n",
       "      <td>housemaid</td>\n",
       "      <td>married</td>\n",
       "      <td>high.school</td>\n",
       "      <td>unknown</td>\n",
       "      <td>yes</td>\n",
       "      <td>no</td>\n",
       "      <td>telephone</td>\n",
       "      <td>may</td>\n",
       "      <td>wed</td>\n",
       "      <td>1</td>\n",
       "      <td>0</td>\n",
       "      <td>nonexistent</td>\n",
       "      <td>4.858</td>\n",
       "      <td>5191.0</td>\n",
       "      <td>0</td>\n",
       "    </tr>\n",
       "    <tr>\n",
       "      <th>...</th>\n",
       "      <td>...</td>\n",
       "      <td>...</td>\n",
       "      <td>...</td>\n",
       "      <td>...</td>\n",
       "      <td>...</td>\n",
       "      <td>...</td>\n",
       "      <td>...</td>\n",
       "      <td>...</td>\n",
       "      <td>...</td>\n",
       "      <td>...</td>\n",
       "      <td>...</td>\n",
       "      <td>...</td>\n",
       "      <td>...</td>\n",
       "      <td>...</td>\n",
       "      <td>...</td>\n",
       "      <td>...</td>\n",
       "    </tr>\n",
       "    <tr>\n",
       "      <th>36526</th>\n",
       "      <td>38</td>\n",
       "      <td>technician</td>\n",
       "      <td>married</td>\n",
       "      <td>university.degree</td>\n",
       "      <td>no</td>\n",
       "      <td>no</td>\n",
       "      <td>no</td>\n",
       "      <td>cellular</td>\n",
       "      <td>jun</td>\n",
       "      <td>wed</td>\n",
       "      <td>1</td>\n",
       "      <td>0</td>\n",
       "      <td>nonexistent</td>\n",
       "      <td>1.260</td>\n",
       "      <td>5076.2</td>\n",
       "      <td>1</td>\n",
       "    </tr>\n",
       "    <tr>\n",
       "      <th>36743</th>\n",
       "      <td>43</td>\n",
       "      <td>blue-collar</td>\n",
       "      <td>married</td>\n",
       "      <td>basic.6y</td>\n",
       "      <td>no</td>\n",
       "      <td>yes</td>\n",
       "      <td>no</td>\n",
       "      <td>cellular</td>\n",
       "      <td>jun</td>\n",
       "      <td>mon</td>\n",
       "      <td>6</td>\n",
       "      <td>0</td>\n",
       "      <td>nonexistent</td>\n",
       "      <td>1.281</td>\n",
       "      <td>5076.2</td>\n",
       "      <td>1</td>\n",
       "    </tr>\n",
       "    <tr>\n",
       "      <th>38682</th>\n",
       "      <td>54</td>\n",
       "      <td>admin.</td>\n",
       "      <td>married</td>\n",
       "      <td>high.school</td>\n",
       "      <td>no</td>\n",
       "      <td>yes</td>\n",
       "      <td>no</td>\n",
       "      <td>cellular</td>\n",
       "      <td>nov</td>\n",
       "      <td>fri</td>\n",
       "      <td>1</td>\n",
       "      <td>3</td>\n",
       "      <td>success</td>\n",
       "      <td>0.716</td>\n",
       "      <td>5017.5</td>\n",
       "      <td>1</td>\n",
       "    </tr>\n",
       "    <tr>\n",
       "      <th>30490</th>\n",
       "      <td>57</td>\n",
       "      <td>admin.</td>\n",
       "      <td>single</td>\n",
       "      <td>university.degree</td>\n",
       "      <td>no</td>\n",
       "      <td>no</td>\n",
       "      <td>yes</td>\n",
       "      <td>cellular</td>\n",
       "      <td>may</td>\n",
       "      <td>mon</td>\n",
       "      <td>3</td>\n",
       "      <td>0</td>\n",
       "      <td>nonexistent</td>\n",
       "      <td>1.354</td>\n",
       "      <td>5099.1</td>\n",
       "      <td>1</td>\n",
       "    </tr>\n",
       "    <tr>\n",
       "      <th>39605</th>\n",
       "      <td>52</td>\n",
       "      <td>admin.</td>\n",
       "      <td>married</td>\n",
       "      <td>university.degree</td>\n",
       "      <td>no</td>\n",
       "      <td>yes</td>\n",
       "      <td>yes</td>\n",
       "      <td>cellular</td>\n",
       "      <td>may</td>\n",
       "      <td>thu</td>\n",
       "      <td>1</td>\n",
       "      <td>5</td>\n",
       "      <td>success</td>\n",
       "      <td>0.677</td>\n",
       "      <td>5008.7</td>\n",
       "      <td>1</td>\n",
       "    </tr>\n",
       "  </tbody>\n",
       "</table>\n",
       "<p>65786 rows × 16 columns</p>\n",
       "</div>"
      ],
      "text/plain": [
       "       age          job   marital            education  default housing loan  \\\n",
       "8061    52   technician  divorced  professional.course  unknown     yes   no   \n",
       "25300   36   management   married    university.degree       no     yes   no   \n",
       "17667   53  blue-collar   married          high.school       no     yes  yes   \n",
       "37400   45  blue-collar    single             basic.9y       no     yes   no   \n",
       "4629    60    housemaid   married          high.school  unknown     yes   no   \n",
       "...    ...          ...       ...                  ...      ...     ...  ...   \n",
       "36526   38   technician   married    university.degree       no      no   no   \n",
       "36743   43  blue-collar   married             basic.6y       no     yes   no   \n",
       "38682   54       admin.   married          high.school       no     yes   no   \n",
       "30490   57       admin.    single    university.degree       no      no  yes   \n",
       "39605   52       admin.   married    university.degree       no     yes  yes   \n",
       "\n",
       "         contact month day_of_week  campaign  previous     poutcome  \\\n",
       "8061   telephone   jun         mon         8         0  nonexistent   \n",
       "25300   cellular   nov         tue         2         0  nonexistent   \n",
       "17667   cellular   jul         mon         2         0  nonexistent   \n",
       "37400   cellular   aug         wed         1         1      success   \n",
       "4629   telephone   may         wed         1         0  nonexistent   \n",
       "...          ...   ...         ...       ...       ...          ...   \n",
       "36526   cellular   jun         wed         1         0  nonexistent   \n",
       "36743   cellular   jun         mon         6         0  nonexistent   \n",
       "38682   cellular   nov         fri         1         3      success   \n",
       "30490   cellular   may         mon         3         0  nonexistent   \n",
       "39605   cellular   may         thu         1         5      success   \n",
       "\n",
       "       euribor3m  nr.employed  y  \n",
       "8061       4.865       5228.1  0  \n",
       "25300      4.153       5195.8  0  \n",
       "17667      4.962       5228.1  0  \n",
       "37400      0.879       5076.2  0  \n",
       "4629       4.858       5191.0  0  \n",
       "...          ...          ... ..  \n",
       "36526      1.260       5076.2  1  \n",
       "36743      1.281       5076.2  1  \n",
       "38682      0.716       5017.5  1  \n",
       "30490      1.354       5099.1  1  \n",
       "39605      0.677       5008.7  1  \n",
       "\n",
       "[65786 rows x 16 columns]"
      ]
     },
     "execution_count": 16,
     "metadata": {},
     "output_type": "execute_result"
    }
   ],
   "source": [
    "df"
   ]
  },
  {
   "cell_type": "code",
   "execution_count": 17,
   "metadata": {},
   "outputs": [],
   "source": [
    "cat_columns = [\"job\", \"marital\", \"education\", \"default\", \"housing\", \"loan\", \"contact\", \"month\", \"day_of_week\", \"poutcome\"]\n",
    "\n",
    "num_columns = [\"age\", \"campaign\", \"previous\", \"euribor3m\", \"nr.employed\"]"
   ]
  },
  {
   "cell_type": "code",
   "execution_count": 18,
   "metadata": {},
   "outputs": [],
   "source": [
    "numerical_pipeline = Pipeline([\n",
    "    ('imputer', SimpleImputer(strategy='mean'))\n",
    "])\n",
    "\n",
    "numerical_pipeline_s = Pipeline([\n",
    "    ('imputer', SimpleImputer(strategy='mean')),\n",
    "    ('scaler', RobustScaler())\n",
    "])\n",
    "\n",
    "categorical_pipeline = Pipeline([\n",
    "    ('imputer', SimpleImputer(strategy='most_frequent')),\n",
    "    ('encoder', OneHotEncoder())\n",
    "])\n",
    "\n",
    "preprocessor = ColumnTransformer([\n",
    "    ('numeric', numerical_pipeline, num_columns),\n",
    "    ('categorical', categorical_pipeline, cat_columns)\n",
    "])\n",
    "\n",
    "preprocessor_s = ColumnTransformer([\n",
    "    ('numeric', numerical_pipeline_s, num_columns),\n",
    "    ('categorical', categorical_pipeline, cat_columns)\n",
    "])"
   ]
  },
  {
   "cell_type": "code",
   "execution_count": 19,
   "metadata": {},
   "outputs": [],
   "source": [
    "pipe_Log = Pipeline([\n",
    "    (\"prep\", preprocessor),\n",
    "    (\"algo\", LogisticRegression())\n",
    "])\n",
    "\n",
    "pipe_KNN = Pipeline([\n",
    "    (\"prep\", preprocessor_s),\n",
    "    (\"algo\", KNeighborsClassifier())\n",
    "])"
   ]
  },
  {
   "cell_type": "code",
   "execution_count": 20,
   "metadata": {},
   "outputs": [],
   "source": [
    "pipe_RF = Pipeline([\n",
    "    (\"prep\", preprocessor),\n",
    "    (\"algo\", RandomForestClassifier())\n",
    "])\n",
    "\n",
    "pipe_SVC = Pipeline([\n",
    "    (\"prep\", preprocessor_s),\n",
    "    (\"algo\", SVC(max_iter = 10))\n",
    "])"
   ]
  },
  {
   "cell_type": "code",
   "execution_count": 21,
   "metadata": {
    "scrolled": true
   },
   "outputs": [
    {
     "data": {
      "text/plain": [
       "Pipeline(steps=[('prep',\n",
       "                 ColumnTransformer(transformers=[('numeric',\n",
       "                                                  Pipeline(steps=[('imputer',\n",
       "                                                                   SimpleImputer()),\n",
       "                                                                  ('scaler',\n",
       "                                                                   RobustScaler())]),\n",
       "                                                  ['age', 'campaign',\n",
       "                                                   'previous', 'euribor3m',\n",
       "                                                   'nr.employed']),\n",
       "                                                 ('categorical',\n",
       "                                                  Pipeline(steps=[('imputer',\n",
       "                                                                   SimpleImputer(strategy='most_frequent')),\n",
       "                                                                  ('encoder',\n",
       "                                                                   OneHotEncoder())]),\n",
       "                                                  ['job', 'marital',\n",
       "                                                   'education', 'default',\n",
       "                                                   'housing', 'loan', 'contact',\n",
       "                                                   'month', 'day_of_week',\n",
       "                                                   'poutcome'])])),\n",
       "                ('algo', SVC(max_iter=10))])"
      ]
     },
     "execution_count": 21,
     "metadata": {},
     "output_type": "execute_result"
    }
   ],
   "source": [
    "pipe_Log.fit(X_train, y_train)\n",
    "pipe_KNN.fit(X_train, y_train)\n",
    "pipe_RF.fit(X_train, y_train)\n",
    "pipe_SVC.fit(X_train, y_train)"
   ]
  },
  {
   "cell_type": "code",
   "execution_count": 22,
   "metadata": {},
   "outputs": [],
   "source": [
    "y_pred_Logtr = pipe_Log.predict(X_train)\n",
    "acc_Logtr = accuracy_score(y_train, y_pred_Logtr)\n",
    "prec_Logtr = precision_score(y_train, y_pred_Logtr)\n",
    "rec0_Logtr = recall_score (y_train, y_pred_Logtr, pos_label=0)\n",
    "rec1_Logtr = recall_score(y_train, y_pred_Logtr, pos_label=1)\n",
    "f1_Logtr = f1_score(y_train, y_pred_Logtr)\n",
    "\n",
    "y_pred_KNNtr = pipe_KNN.predict(X_train)\n",
    "acc_KNNtr = accuracy_score(y_train, y_pred_KNNtr)\n",
    "prec_KNNtr = precision_score(y_train, y_pred_KNNtr)\n",
    "rec0_KNNtr = recall_score (y_train, y_pred_KNNtr, pos_label=0)\n",
    "rec1_KNNtr = recall_score(y_train, y_pred_KNNtr, pos_label=1)\n",
    "f1_KNNtr = f1_score(y_train, y_pred_KNNtr)\n",
    "\n",
    "y_pred_RFtr = pipe_RF.predict(X_train)\n",
    "acc_RFtr = accuracy_score(y_train, y_pred_RFtr)\n",
    "prec_RFtr = precision_score(y_train, y_pred_RFtr)\n",
    "rec0_RFtr = recall_score (y_train, y_pred_RFtr, pos_label=0)\n",
    "rec1_RFtr = recall_score(y_train, y_pred_RFtr, pos_label=1)\n",
    "f1_RFtr = f1_score(y_train, y_pred_RFtr)\n",
    "\n",
    "y_pred_SVCtr = pipe_SVC.predict(X_train)\n",
    "acc_SVCtr = accuracy_score(y_train, y_pred_SVCtr)\n",
    "prec_SVCtr = precision_score(y_train, y_pred_SVCtr)\n",
    "rec0_SVCtr = recall_score (y_train, y_pred_SVCtr, pos_label=0)\n",
    "rec1_SVCtr = recall_score(y_train, y_pred_SVCtr, pos_label=1)\n",
    "f1_SVCtr = f1_score(y_train, y_pred_SVCtr)\n",
    "\n",
    "\n",
    "y_pred_Logts = pipe_Log.predict(X_test)\n",
    "acc_Logts = accuracy_score(y_test, y_pred_Logts)\n",
    "prec_Logts = precision_score(y_test, y_pred_Logts)\n",
    "rec0_Logts = recall_score (y_test, y_pred_Logts, pos_label=0)\n",
    "rec1_Logts = recall_score(y_test, y_pred_Logts, pos_label=1)\n",
    "f1_Logts = f1_score(y_test, y_pred_Logts)\n",
    "\n",
    "y_pred_KNNts = pipe_KNN.predict(X_test)\n",
    "acc_KNNts = accuracy_score(y_test, y_pred_KNNts)\n",
    "prec_KNNts = precision_score(y_test, y_pred_KNNts)\n",
    "rec0_KNNts = recall_score (y_test, y_pred_KNNts, pos_label=0)\n",
    "rec1_KNNts = recall_score(y_test, y_pred_KNNts, pos_label=1)\n",
    "f1_KNNts = f1_score(y_test, y_pred_KNNts)\n",
    "\n",
    "y_pred_RFts = pipe_RF.predict(X_test)\n",
    "acc_RFts = accuracy_score(y_test, y_pred_RFts)\n",
    "prec_RFts = precision_score(y_test, y_pred_RFts)\n",
    "rec0_RFts = recall_score (y_test, y_pred_RFts, pos_label=0)\n",
    "rec1_RFts = recall_score(y_test, y_pred_RFts, pos_label=1)\n",
    "f1_RFts = f1_score(y_test, y_pred_RFts)\n",
    "\n",
    "y_pred_SVCts = pipe_SVC.predict(X_test)\n",
    "acc_SVCts = accuracy_score(y_test, y_pred_SVCts)\n",
    "prec_SVCts = precision_score(y_test, y_pred_SVCts)\n",
    "rec0_SVCts = recall_score (y_test, y_pred_SVCts, pos_label=0)\n",
    "rec1_SVCts = recall_score(y_test, y_pred_SVCts, pos_label=1)\n",
    "f1_SVCts = f1_score(y_test, y_pred_SVCts)"
   ]
  },
  {
   "cell_type": "code",
   "execution_count": 23,
   "metadata": {},
   "outputs": [
    {
     "data": {
      "text/html": [
       "<div>\n",
       "<style scoped>\n",
       "    .dataframe tbody tr th:only-of-type {\n",
       "        vertical-align: middle;\n",
       "    }\n",
       "\n",
       "    .dataframe tbody tr th {\n",
       "        vertical-align: top;\n",
       "    }\n",
       "\n",
       "    .dataframe thead th {\n",
       "        text-align: right;\n",
       "    }\n",
       "</style>\n",
       "<table border=\"1\" class=\"dataframe\">\n",
       "  <thead>\n",
       "    <tr style=\"text-align: right;\">\n",
       "      <th></th>\n",
       "      <th>LogReg Train</th>\n",
       "      <th>LogReg Test</th>\n",
       "      <th>KNN Train</th>\n",
       "      <th>KNN Test</th>\n",
       "      <th>RF Train</th>\n",
       "      <th>RF Test</th>\n",
       "      <th>SVC Train</th>\n",
       "      <th>SVC Test</th>\n",
       "    </tr>\n",
       "  </thead>\n",
       "  <tbody>\n",
       "    <tr>\n",
       "      <th>Accuracy</th>\n",
       "      <td>0.733758</td>\n",
       "      <td>0.796795</td>\n",
       "      <td>0.925744</td>\n",
       "      <td>0.779073</td>\n",
       "      <td>0.996580</td>\n",
       "      <td>0.884681</td>\n",
       "      <td>0.472517</td>\n",
       "      <td>0.796067</td>\n",
       "    </tr>\n",
       "    <tr>\n",
       "      <th>Precision</th>\n",
       "      <td>0.776941</td>\n",
       "      <td>0.314058</td>\n",
       "      <td>0.871439</td>\n",
       "      <td>0.267708</td>\n",
       "      <td>0.993206</td>\n",
       "      <td>0.485488</td>\n",
       "      <td>0.316335</td>\n",
       "      <td>0.056604</td>\n",
       "    </tr>\n",
       "    <tr>\n",
       "      <th>Recall</th>\n",
       "      <td>0.655793</td>\n",
       "      <td>0.678879</td>\n",
       "      <td>0.998845</td>\n",
       "      <td>0.553879</td>\n",
       "      <td>1.000000</td>\n",
       "      <td>0.396552</td>\n",
       "      <td>0.047335</td>\n",
       "      <td>0.051724</td>\n",
       "    </tr>\n",
       "    <tr>\n",
       "      <th>F1 Score</th>\n",
       "      <td>0.711245</td>\n",
       "      <td>0.429448</td>\n",
       "      <td>0.930802</td>\n",
       "      <td>0.360955</td>\n",
       "      <td>0.996591</td>\n",
       "      <td>0.436536</td>\n",
       "      <td>0.082348</td>\n",
       "      <td>0.054054</td>\n",
       "    </tr>\n",
       "  </tbody>\n",
       "</table>\n",
       "</div>"
      ],
      "text/plain": [
       "           LogReg Train  LogReg Test  KNN Train  KNN Test  RF Train   RF Test  \\\n",
       "Accuracy       0.733758     0.796795   0.925744  0.779073  0.996580  0.884681   \n",
       "Precision      0.776941     0.314058   0.871439  0.267708  0.993206  0.485488   \n",
       "Recall         0.655793     0.678879   0.998845  0.553879  1.000000  0.396552   \n",
       "F1 Score       0.711245     0.429448   0.930802  0.360955  0.996591  0.436536   \n",
       "\n",
       "           SVC Train  SVC Test  \n",
       "Accuracy    0.472517  0.796067  \n",
       "Precision   0.316335  0.056604  \n",
       "Recall      0.047335  0.051724  \n",
       "F1 Score    0.082348  0.054054  "
      ]
     },
     "execution_count": 23,
     "metadata": {},
     "output_type": "execute_result"
    }
   ],
   "source": [
    "data = {\n",
    "    \"LogReg Train\" : [acc_Logtr, prec_Logtr, rec1_Logtr, f1_Logtr],\n",
    "    \"LogReg Test\" : [acc_Logts, prec_Logts, rec1_Logts, f1_Logts],\n",
    "    \"KNN Train\" : [acc_KNNtr, prec_KNNtr, rec1_KNNtr, f1_KNNtr],\n",
    "    \"KNN Test\" : [acc_KNNts, prec_KNNts, rec1_KNNts, f1_KNNts],\n",
    "    \"RF Train\" : [acc_RFtr, prec_RFtr, rec1_RFtr, f1_RFtr],\n",
    "    \"RF Test\" : [acc_RFts, prec_RFts, rec1_RFts, f1_RFts],\n",
    "    \"SVC Train\" : [acc_SVCtr, prec_SVCtr, rec1_SVCtr, f1_SVCtr],\n",
    "    \"SVC Test\" : [acc_SVCts, prec_SVCts, rec1_SVCts, f1_SVCts]\n",
    "}\n",
    "pd.DataFrame(data=data, index=['Accuracy', 'Precision', 'Recall', 'F1 Score'])"
   ]
  },
  {
   "cell_type": "markdown",
   "metadata": {},
   "source": [
    "**Hyperparameter Tuning**"
   ]
  },
  {
   "cell_type": "markdown",
   "metadata": {},
   "source": [
    "Parameter"
   ]
  },
  {
   "cell_type": "code",
   "execution_count": 24,
   "metadata": {},
   "outputs": [],
   "source": [
    "Param_Log = {\n",
    "    \"algo__penalty\" : [\"l1\",\"l2\",\"elasticnet\",\"none\"],\n",
    "    \"algo__class_weight\" : [dict, \"balanced\",\"none\"],\n",
    "    \"algo__max_iter\" : [10,100,500]\n",
    "}\n",
    "\n",
    "Param_KNN = {\n",
    "    \"algo__n_neighbors\" : [155],\n",
    "    \"algo__weights\" : [\"distance\",\"uniform\"],\n",
    "    \"algo__leaf_size\" : [75]\n",
    "}\n",
    "\n",
    "Param_RF = {\n",
    "    \"algo__n_estimators\" : [1500],\n",
    "    \"algo__min_samples_split\" : [155],\n",
    "    \"algo__min_samples_leaf\" : [70]\n",
    "}\n",
    "\n",
    "Param_SVC = {\n",
    "    \"algo__max_iter\" : [20],\n",
    "    \"algo__kernel\" : ['poly', 'rbf', 'sigmoid'],\n",
    "    \"algo__gamma\" : [0.01, 100],\n",
    "    \"algo__cache_size\" : [2000]\n",
    "}"
   ]
  },
  {
   "cell_type": "code",
   "execution_count": 25,
   "metadata": {},
   "outputs": [],
   "source": [
    "from sklearn.model_selection import GridSearchCV"
   ]
  },
  {
   "cell_type": "markdown",
   "metadata": {},
   "source": [
    "**Logistic Regression Tuning**"
   ]
  },
  {
   "cell_type": "code",
   "execution_count": 26,
   "metadata": {},
   "outputs": [
    {
     "name": "stdout",
     "output_type": "stream",
     "text": [
      "Fitting 3 folds for each of 36 candidates, totalling 108 fits\n"
     ]
    },
    {
     "name": "stderr",
     "output_type": "stream",
     "text": [
      "[Parallel(n_jobs=-1)]: Using backend LokyBackend with 6 concurrent workers.\n",
      "[Parallel(n_jobs=-1)]: Done  38 tasks      | elapsed:   25.3s\n",
      "[Parallel(n_jobs=-1)]: Done 108 out of 108 | elapsed:  1.1min finished\n"
     ]
    },
    {
     "name": "stdout",
     "output_type": "stream",
     "text": [
      "Best Score : 0.7341531365913543\n",
      "Tuned recall LogReg Tuned Train :  0.6543641504271426\n",
      "Tuned recall LogReg Tuned Test :  0.6724137931034483\n"
     ]
    }
   ],
   "source": [
    "model_tuned_1 = GridSearchCV(estimator=pipe_Log, param_grid=Param_Log, cv = 3, n_jobs=-1, verbose=1)\n",
    "\n",
    "model_tuned_1.fit(X_train, y_train)\n",
    "model_tuned_1.best_score_\n",
    "model_tuned_1_1 = model_tuned_1.best_estimator_\n",
    "y_tune_1_train = model_tuned_1_1.predict(X_train)\n",
    "y_tune_1_test = model_tuned_1_1.predict(X_test)\n",
    "\n",
    "print('Best Score :',model_tuned_1.best_score_)\n",
    "print('Tuned recall LogReg Tuned Train : ', recall_score(y_train, y_tune_1_train))\n",
    "print('Tuned recall LogReg Tuned Test : ', recall_score(y_test, y_tune_1_test))"
   ]
  },
  {
   "cell_type": "code",
   "execution_count": 27,
   "metadata": {},
   "outputs": [
    {
     "data": {
      "text/plain": [
       "0.31451612903225806"
      ]
     },
     "execution_count": 27,
     "metadata": {},
     "output_type": "execute_result"
    }
   ],
   "source": [
    "precision_score(y_test, y_tune_1_test)"
   ]
  },
  {
   "cell_type": "markdown",
   "metadata": {},
   "source": [
    "**KNN Tuning**"
   ]
  },
  {
   "cell_type": "code",
   "execution_count": 28,
   "metadata": {},
   "outputs": [
    {
     "name": "stdout",
     "output_type": "stream",
     "text": [
      "Fitting 3 folds for each of 2 candidates, totalling 6 fits\n"
     ]
    },
    {
     "name": "stderr",
     "output_type": "stream",
     "text": [
      "[Parallel(n_jobs=-1)]: Using backend LokyBackend with 6 concurrent workers.\n",
      "[Parallel(n_jobs=-1)]: Done   2 out of   6 | elapsed:  4.3min remaining:  8.7min\n",
      "[Parallel(n_jobs=-1)]: Done   6 out of   6 | elapsed:  5.1min finished\n"
     ]
    },
    {
     "name": "stdout",
     "output_type": "stream",
     "text": [
      "Best Score : 0.915711498464856\n",
      "Tuned recall KNN Tuned Train :  1.0\n",
      "Tuned recall KNN Tuned Test :  0.6206896551724138\n"
     ]
    }
   ],
   "source": [
    "model_tuned_2 = GridSearchCV(estimator=pipe_KNN, param_grid=Param_KNN, cv = 3, n_jobs=-1, verbose=1)\n",
    "\n",
    "model_tuned_2.fit(X_train, y_train)\n",
    "model_tuned_2.best_score_\n",
    "model_tuned_2_1 = model_tuned_2.best_estimator_\n",
    "y_tune_2_train = model_tuned_2_1.predict(X_train)\n",
    "y_tune_2_test = model_tuned_2_1.predict(X_test)\n",
    "\n",
    "print('Best Score :',model_tuned_2.best_score_)\n",
    "print('Tuned recall KNN Tuned Train : ', recall_score(y_train, y_tune_2_train))\n",
    "print('Tuned recall KNN Tuned Test : ', recall_score(y_test, y_tune_2_test))"
   ]
  },
  {
   "cell_type": "markdown",
   "metadata": {},
   "source": [
    "**Random Forest Tuning**"
   ]
  },
  {
   "cell_type": "code",
   "execution_count": 29,
   "metadata": {},
   "outputs": [
    {
     "name": "stdout",
     "output_type": "stream",
     "text": [
      "Fitting 3 folds for each of 1 candidates, totalling 3 fits\n"
     ]
    },
    {
     "name": "stderr",
     "output_type": "stream",
     "text": [
      "[Parallel(n_jobs=-1)]: Using backend LokyBackend with 6 concurrent workers.\n",
      "[Parallel(n_jobs=-1)]: Done   3 out of   3 | elapsed:  2.8min finished\n"
     ]
    },
    {
     "name": "stdout",
     "output_type": "stream",
     "text": [
      "Best Score : 0.7539293865628846\n",
      "Tuned recall RF Tuned Train :  0.6473413796248442\n",
      "Tuned recall RF Tuned Test :  0.6314655172413793\n"
     ]
    }
   ],
   "source": [
    "model_tuned_3 = GridSearchCV(estimator=pipe_RF, param_grid=Param_RF, cv = 3, n_jobs=-1, verbose=1)\n",
    "\n",
    "model_tuned_3.fit(X_train, y_train)\n",
    "model_tuned_3.best_score_\n",
    "model_tuned_3_1 = model_tuned_3.best_estimator_\n",
    "y_tune_3_train = model_tuned_3_1.predict(X_train)\n",
    "y_tune_3_test = model_tuned_3_1.predict(X_test)\n",
    "\n",
    "print('Best Score :',model_tuned_3.best_score_)\n",
    "print('Tuned recall RF Tuned Train : ', recall_score(y_train, y_tune_3_train))\n",
    "print('Tuned recall RF Tuned Test : ', recall_score(y_test, y_tune_3_test))"
   ]
  },
  {
   "cell_type": "markdown",
   "metadata": {},
   "source": [
    "**SVC Tuning**"
   ]
  },
  {
   "cell_type": "code",
   "execution_count": 34,
   "metadata": {
    "scrolled": false
   },
   "outputs": [
    {
     "name": "stdout",
     "output_type": "stream",
     "text": [
      "Fitting 3 folds for each of 6 candidates, totalling 18 fits\n"
     ]
    },
    {
     "name": "stderr",
     "output_type": "stream",
     "text": [
      "[Parallel(n_jobs=-1)]: Using backend LokyBackend with 6 concurrent workers.\n",
      "[Parallel(n_jobs=-1)]: Done  18 out of  18 | elapsed:   12.6s finished\n"
     ]
    },
    {
     "name": "stdout",
     "output_type": "stream",
     "text": [
      "Best Score : 0.5667771831679463\n",
      "Tuned recall SVC Tuned Train :  0.8051257106375217\n",
      "Tuned recall SVC Tuned Test :  0.7931034482758621\n"
     ]
    }
   ],
   "source": [
    "model_tuned_4 = GridSearchCV(estimator=pipe_SVC, param_grid=Param_SVC, cv = 3, n_jobs=-1, verbose=1)\n",
    "\n",
    "model_tuned_4.fit(X_train, y_train)\n",
    "model_tuned_4.best_score_\n",
    "model_tuned_4_1 = model_tuned_4.best_estimator_\n",
    "y_tune_4_train = model_tuned_4_1.predict(X_train)\n",
    "y_tune_4_test = model_tuned_4_1.predict(X_test)\n",
    "\n",
    "print('Best Score :',model_tuned_4.best_score_)\n",
    "print('Tuned recall SVC Tuned Train : ', recall_score(y_train, y_tune_4_train))\n",
    "print('Tuned recall SVC Tuned Test : ', recall_score(y_test, y_tune_4_test))"
   ]
  },
  {
   "cell_type": "markdown",
   "metadata": {},
   "source": [
    "**Evaluation Metrics Tuned**"
   ]
  },
  {
   "cell_type": "code",
   "execution_count": 35,
   "metadata": {},
   "outputs": [],
   "source": [
    "acc_Logtr_tuned = accuracy_score(y_train, y_tune_1_train)\n",
    "prec_Logtr_tuned = precision_score(y_train, y_tune_1_train)\n",
    "rec0_Logtr_tuned = recall_score(y_train, y_tune_1_train, pos_label=0)\n",
    "rec1_Logtr_tuned = recall_score(y_train, y_tune_1_train, pos_label=1)\n",
    "f1_Logtr_tuned = f1_score(y_train, y_tune_1_train)\n",
    "\n",
    "acc_KNNtr_tuned = accuracy_score(y_train, y_tune_2_train)\n",
    "prec_KNNtr_tuned = precision_score(y_train, y_tune_2_train)\n",
    "rec0_KNNtr_tuned = recall_score(y_train, y_tune_2_train, pos_label=0)\n",
    "rec1_KNNtr_tuned = recall_score(y_train, y_tune_2_train, pos_label=1)\n",
    "f1_KNNtr_tuned = f1_score(y_train, y_tune_2_train)\n",
    "\n",
    "acc_RFtr_tuned = accuracy_score(y_train, y_tune_3_train)\n",
    "prec_RFtr_tuned = precision_score(y_train, y_tune_3_train)\n",
    "rec0_RFtr_tuned = recall_score(y_train, y_tune_3_train, pos_label=0)\n",
    "rec1_RFtr_tuned = recall_score(y_train, y_tune_3_train, pos_label=1)\n",
    "f1_RFtr_tuned = f1_score(y_train, y_tune_3_train)\n",
    "\n",
    "acc_SVCtr_tuned = accuracy_score(y_train, y_tune_4_train)\n",
    "prec_SVCtr_tuned = precision_score(y_train, y_tune_4_train)\n",
    "rec0_SVCtr_tuned = recall_score(y_train, y_tune_4_train, pos_label=0)\n",
    "rec1_SVCtr_tuned = recall_score(y_train, y_tune_4_train, pos_label=1)\n",
    "f1_SVCtr_tuned = f1_score(y_train, y_tune_4_train)\n",
    "\n",
    "\n",
    "acc_Logts_tuned = accuracy_score(y_test, y_tune_1_test)\n",
    "prec_Logts_tuned = precision_score(y_test, y_tune_1_test)\n",
    "rec0_Logts_tuned = recall_score(y_test, y_tune_1_test, pos_label=0)\n",
    "rec1_Logts_tuned = recall_score(y_test, y_tune_1_test, pos_label=1)\n",
    "f1_Logts_tuned = f1_score(y_test, y_tune_1_test)\n",
    "\n",
    "acc_KNNts_tuned = accuracy_score(y_test, y_tune_2_test)\n",
    "prec_KNNts_tuned = precision_score(y_test, y_tune_2_test)\n",
    "rec0_KNNts_tuned = recall_score(y_test, y_tune_2_test, pos_label=0)\n",
    "rec1_KNNts_tuned = recall_score(y_test, y_tune_2_test, pos_label=1)\n",
    "f1_KNNts_tuned = f1_score(y_test, y_tune_2_test)\n",
    "\n",
    "acc_RFts_tuned = accuracy_score(y_test, y_tune_3_test)\n",
    "prec_RFts_tuned = precision_score(y_test, y_tune_3_test)\n",
    "rec0_RFts_tuned = recall_score(y_test, y_tune_3_test, pos_label=0)\n",
    "rec1_RFts_tuned = recall_score(y_test, y_tune_3_test, pos_label=1)\n",
    "f1_RFts_tuned = f1_score(y_test, y_tune_3_test)\n",
    "\n",
    "acc_SVCts_tuned = accuracy_score(y_test, y_tune_4_test)\n",
    "prec_SVCts_tuned = precision_score(y_test, y_tune_4_test)\n",
    "rec0_SVCts_tuned = recall_score(y_test, y_tune_4_test, pos_label=0)\n",
    "rec1_SVCts_tuned = recall_score(y_test, y_tune_4_test, pos_label=1)\n",
    "f1_SVCts_tuned = f1_score(y_test, y_tune_4_test)"
   ]
  },
  {
   "cell_type": "code",
   "execution_count": 36,
   "metadata": {},
   "outputs": [
    {
     "data": {
      "text/html": [
       "<div>\n",
       "<style scoped>\n",
       "    .dataframe tbody tr th:only-of-type {\n",
       "        vertical-align: middle;\n",
       "    }\n",
       "\n",
       "    .dataframe tbody tr th {\n",
       "        vertical-align: top;\n",
       "    }\n",
       "\n",
       "    .dataframe thead th {\n",
       "        text-align: right;\n",
       "    }\n",
       "</style>\n",
       "<table border=\"1\" class=\"dataframe\">\n",
       "  <thead>\n",
       "    <tr style=\"text-align: right;\">\n",
       "      <th></th>\n",
       "      <th>LogReg Tuned Train</th>\n",
       "      <th>LogReg Tuned Test</th>\n",
       "      <th>KNN Tuned Train</th>\n",
       "      <th>KNN Tuned Test</th>\n",
       "      <th>RF Tuned Train</th>\n",
       "      <th>RF Tuned Test</th>\n",
       "      <th>SVC Tuned Train</th>\n",
       "      <th>SVC Tuned Test</th>\n",
       "    </tr>\n",
       "  </thead>\n",
       "  <tbody>\n",
       "    <tr>\n",
       "      <th>Accuracy</th>\n",
       "      <td>0.734001</td>\n",
       "      <td>0.798009</td>\n",
       "      <td>0.996580</td>\n",
       "      <td>0.806506</td>\n",
       "      <td>0.760253</td>\n",
       "      <td>0.845351</td>\n",
       "      <td>0.550649</td>\n",
       "      <td>0.350813</td>\n",
       "    </tr>\n",
       "    <tr>\n",
       "      <th>Precision</th>\n",
       "      <td>0.778332</td>\n",
       "      <td>0.314516</td>\n",
       "      <td>0.993206</td>\n",
       "      <td>0.316832</td>\n",
       "      <td>0.836167</td>\n",
       "      <td>0.386034</td>\n",
       "      <td>0.533566</td>\n",
       "      <td>0.124915</td>\n",
       "    </tr>\n",
       "    <tr>\n",
       "      <th>Recall</th>\n",
       "      <td>0.654364</td>\n",
       "      <td>0.672414</td>\n",
       "      <td>1.000000</td>\n",
       "      <td>0.620690</td>\n",
       "      <td>0.647341</td>\n",
       "      <td>0.631466</td>\n",
       "      <td>0.805126</td>\n",
       "      <td>0.793103</td>\n",
       "    </tr>\n",
       "    <tr>\n",
       "      <th>F1 Score</th>\n",
       "      <td>0.710985</td>\n",
       "      <td>0.428571</td>\n",
       "      <td>0.996591</td>\n",
       "      <td>0.419519</td>\n",
       "      <td>0.729737</td>\n",
       "      <td>0.479150</td>\n",
       "      <td>0.641802</td>\n",
       "      <td>0.215836</td>\n",
       "    </tr>\n",
       "  </tbody>\n",
       "</table>\n",
       "</div>"
      ],
      "text/plain": [
       "           LogReg Tuned Train  LogReg Tuned Test  KNN Tuned Train  \\\n",
       "Accuracy             0.734001           0.798009         0.996580   \n",
       "Precision            0.778332           0.314516         0.993206   \n",
       "Recall               0.654364           0.672414         1.000000   \n",
       "F1 Score             0.710985           0.428571         0.996591   \n",
       "\n",
       "           KNN Tuned Test  RF Tuned Train  RF Tuned Test  SVC Tuned Train  \\\n",
       "Accuracy         0.806506        0.760253       0.845351         0.550649   \n",
       "Precision        0.316832        0.836167       0.386034         0.533566   \n",
       "Recall           0.620690        0.647341       0.631466         0.805126   \n",
       "F1 Score         0.419519        0.729737       0.479150         0.641802   \n",
       "\n",
       "           SVC Tuned Test  \n",
       "Accuracy         0.350813  \n",
       "Precision        0.124915  \n",
       "Recall           0.793103  \n",
       "F1 Score         0.215836  "
      ]
     },
     "execution_count": 36,
     "metadata": {},
     "output_type": "execute_result"
    }
   ],
   "source": [
    "data = {\n",
    "    \"LogReg Tuned Train\" : [acc_Logtr_tuned, prec_Logtr_tuned, rec1_Logtr_tuned, f1_Logtr_tuned],\n",
    "    \"LogReg Tuned Test\" : [acc_Logts_tuned, prec_Logts_tuned, rec1_Logts_tuned, f1_Logts_tuned],\n",
    "    \"KNN Tuned Train\" : [acc_KNNtr_tuned, prec_KNNtr_tuned, rec1_KNNtr_tuned, f1_KNNtr_tuned],\n",
    "    \"KNN Tuned Test\" : [acc_KNNts_tuned, prec_KNNts_tuned, rec1_KNNts_tuned, f1_KNNts_tuned],\n",
    "    \"RF Tuned Train\" : [acc_RFtr_tuned, prec_RFtr_tuned, rec1_RFtr_tuned, f1_RFtr_tuned],\n",
    "    \"RF Tuned Test\" : [acc_RFts_tuned, prec_RFts_tuned, rec1_RFts_tuned, f1_RFts_tuned],\n",
    "    \"SVC Tuned Train\" : [acc_SVCtr_tuned, prec_SVCtr_tuned, rec1_SVCtr_tuned, f1_SVCtr_tuned],\n",
    "    \"SVC Tuned Test\" : [acc_SVCts_tuned, prec_SVCts_tuned, rec1_SVCts_tuned, f1_SVCts_tuned]\n",
    "}\n",
    "pd.DataFrame(data=data, index=['Accuracy', 'Precision', 'Recall', 'F1 Score'])"
   ]
  },
  {
   "cell_type": "markdown",
   "metadata": {},
   "source": [
    "**Confusion Matrix**"
   ]
  },
  {
   "cell_type": "code",
   "execution_count": 37,
   "metadata": {},
   "outputs": [],
   "source": [
    "cmLog = confusion_matrix(y_test, y_tune_1_test, labels=[1, 0])\n",
    "dfLog = pd.DataFrame(data=cmLog, columns=['Prediction 1', 'Prediction 0'], index = ['Actual 1', 'Actual 0'])\n",
    "\n",
    "cmKNN = confusion_matrix(y_test, y_tune_2_test, labels=[1, 0])\n",
    "dfKNN = pd.DataFrame(data=cmKNN, columns=['Prediction 1', 'Prediction 0'], index = ['Actual 1', 'Actual 0'])\n",
    "\n",
    "cmRF = confusion_matrix(y_test, y_tune_3_test, labels=[1, 0])\n",
    "dfRF = pd.DataFrame(data=cmRF, columns=['Prediction 1', 'Prediction 0'], index = ['Actual 1', 'Actual 0'])\n",
    "\n",
    "cmSVC = confusion_matrix(y_test, y_tune_4_test, labels=[1, 0])\n",
    "dfSVC = pd.DataFrame(data=cmSVC, columns=['Prediction 1', 'Prediction 0'], index = ['Actual 1', 'Actual 0'])"
   ]
  },
  {
   "cell_type": "code",
   "execution_count": 40,
   "metadata": {
    "scrolled": false
   },
   "outputs": [
    {
     "data": {
      "image/png": "[encoded data removed]",
      "text/plain": [
       "<Figure size 1296x1296 with 8 Axes>"
      ]
     },
     "metadata": {
      "needs_background": "light"
     },
     "output_type": "display_data"
    }
   ],
   "source": [
    "plt.figure(figsize=(18, 18))\n",
    "\n",
    "plt.subplot(4,4,1)\n",
    "sns.heatmap(dfLog, annot=True, fmt='d')\n",
    "plt.title('Logistic Regression')\n",
    "\n",
    "plt.subplot(4,4,2)\n",
    "sns.heatmap(dfKNN, annot=True, fmt='d')\n",
    "plt.title('K Nearest Neighbor')\n",
    "\n",
    "plt.subplot(4,4,3)\n",
    "sns.heatmap(dfRF, annot=True, fmt='d')\n",
    "plt.title('Random Forest Classifier')\n",
    "\n",
    "plt.subplot(4,4,4)\n",
    "sns.heatmap(dfSVC, annot=True, fmt='d')\n",
    "plt.title('Support Vector Classification')\n",
    "\n",
    "plt.show()"
   ]
  },
  {
   "cell_type": "code",
   "execution_count": 41,
   "metadata": {},
   "outputs": [
    {
     "data": {
      "text/plain": [
       "['ModelBankMarketingSVCPipe']"
      ]
     },
     "execution_count": 41,
     "metadata": {},
     "output_type": "execute_result"
    }
   ],
   "source": [
    "import pickle\n",
    "import joblib\n",
    "\n",
    "joblib.dump(model_tuned_1_1, 'ModelBankMarketingLogRegPipe')\n",
    "joblib.dump(model_tuned_2_1, 'ModelBankMarketingKNNPipe')\n",
    "joblib.dump(model_tuned_3_1, 'ModelBankMarketingRFPipe')\n",
    "joblib.dump(model_tuned_4_1, 'ModelBankMarketingSVCPipe')"
   ]
  },
  {
   "cell_type": "code",
   "execution_count": null,
   "metadata": {},
   "outputs": [],
   "source": []
  }
 ],
 "metadata": {
  "kernelspec": {
   "display_name": "Python 3",
   "language": "python",
   "name": "python3"
  },
  "language_info": {
   "codemirror_mode": {
    "name": "ipython",
    "version": 3
   },
   "file_extension": ".py",
   "mimetype": "text/x-python",
   "name": "python",
   "nbconvert_exporter": "python",
   "pygments_lexer": "ipython3",
   "version": "3.8.3"
  }
 },
 "nbformat": 4,
 "nbformat_minor": 4
}
