{
 "cells": [
  {
   "cell_type": "markdown",
   "metadata": {},
   "source": [
    "**Machine Learning**\n",
    "\n",
    "- Classify the customers that has a high probability of exiting\n",
    "\n",
    "**Conclusion**\n",
    "\n",
    "- Random Forest Classifier tuned is very good model in machine learning for Bank Customer Churn Classification\n",
    "- More check file : BankAccountMachineLearning"
   ]
  },
  {
   "cell_type": "code",
   "execution_count": 1,
   "metadata": {},
   "outputs": [],
   "source": [
    "import pandas as pd\n",
    "import numpy as np\n",
    "import matplotlib.pyplot as plt\n",
    "import seaborn as sns\n",
    "import warnings\n",
    "warnings.filterwarnings('ignore')\n",
    "\n",
    "%matplotlib inline"
   ]
  },
  {
   "cell_type": "code",
   "execution_count": 2,
   "metadata": {
    "scrolled": false
   },
   "outputs": [
    {
     "data": {
      "text/html": [
       "<div>\n",
       "<style scoped>\n",
       "    .dataframe tbody tr th:only-of-type {\n",
       "        vertical-align: middle;\n",
       "    }\n",
       "\n",
       "    .dataframe tbody tr th {\n",
       "        vertical-align: top;\n",
       "    }\n",
       "\n",
       "    .dataframe thead th {\n",
       "        text-align: right;\n",
       "    }\n",
       "</style>\n",
       "<table border=\"1\" class=\"dataframe\">\n",
       "  <thead>\n",
       "    <tr style=\"text-align: right;\">\n",
       "      <th></th>\n",
       "      <th>RowNumber</th>\n",
       "      <th>CustomerId</th>\n",
       "      <th>Surname</th>\n",
       "      <th>CreditScore</th>\n",
       "      <th>Geography</th>\n",
       "      <th>Gender</th>\n",
       "      <th>Age</th>\n",
       "      <th>Tenure</th>\n",
       "      <th>Balance</th>\n",
       "      <th>NumOfProducts</th>\n",
       "      <th>HasCrCard</th>\n",
       "      <th>IsActiveMember</th>\n",
       "      <th>EstimatedSalary</th>\n",
       "      <th>Exited</th>\n",
       "    </tr>\n",
       "  </thead>\n",
       "  <tbody>\n",
       "    <tr>\n",
       "      <th>0</th>\n",
       "      <td>1</td>\n",
       "      <td>15634602</td>\n",
       "      <td>Hargrave</td>\n",
       "      <td>619</td>\n",
       "      <td>France</td>\n",
       "      <td>Female</td>\n",
       "      <td>42</td>\n",
       "      <td>2</td>\n",
       "      <td>0.00</td>\n",
       "      <td>1</td>\n",
       "      <td>1</td>\n",
       "      <td>1</td>\n",
       "      <td>101348.88</td>\n",
       "      <td>1</td>\n",
       "    </tr>\n",
       "    <tr>\n",
       "      <th>1</th>\n",
       "      <td>2</td>\n",
       "      <td>15647311</td>\n",
       "      <td>Hill</td>\n",
       "      <td>608</td>\n",
       "      <td>Spain</td>\n",
       "      <td>Female</td>\n",
       "      <td>41</td>\n",
       "      <td>1</td>\n",
       "      <td>83807.86</td>\n",
       "      <td>1</td>\n",
       "      <td>0</td>\n",
       "      <td>1</td>\n",
       "      <td>112542.58</td>\n",
       "      <td>0</td>\n",
       "    </tr>\n",
       "    <tr>\n",
       "      <th>2</th>\n",
       "      <td>3</td>\n",
       "      <td>15619304</td>\n",
       "      <td>Onio</td>\n",
       "      <td>502</td>\n",
       "      <td>France</td>\n",
       "      <td>Female</td>\n",
       "      <td>42</td>\n",
       "      <td>8</td>\n",
       "      <td>159660.80</td>\n",
       "      <td>3</td>\n",
       "      <td>1</td>\n",
       "      <td>0</td>\n",
       "      <td>113931.57</td>\n",
       "      <td>1</td>\n",
       "    </tr>\n",
       "    <tr>\n",
       "      <th>3</th>\n",
       "      <td>4</td>\n",
       "      <td>15701354</td>\n",
       "      <td>Boni</td>\n",
       "      <td>699</td>\n",
       "      <td>France</td>\n",
       "      <td>Female</td>\n",
       "      <td>39</td>\n",
       "      <td>1</td>\n",
       "      <td>0.00</td>\n",
       "      <td>2</td>\n",
       "      <td>0</td>\n",
       "      <td>0</td>\n",
       "      <td>93826.63</td>\n",
       "      <td>0</td>\n",
       "    </tr>\n",
       "    <tr>\n",
       "      <th>4</th>\n",
       "      <td>5</td>\n",
       "      <td>15737888</td>\n",
       "      <td>Mitchell</td>\n",
       "      <td>850</td>\n",
       "      <td>Spain</td>\n",
       "      <td>Female</td>\n",
       "      <td>43</td>\n",
       "      <td>2</td>\n",
       "      <td>125510.82</td>\n",
       "      <td>1</td>\n",
       "      <td>1</td>\n",
       "      <td>1</td>\n",
       "      <td>79084.10</td>\n",
       "      <td>0</td>\n",
       "    </tr>\n",
       "  </tbody>\n",
       "</table>\n",
       "</div>"
      ],
      "text/plain": [
       "   RowNumber  CustomerId   Surname  CreditScore Geography  Gender  Age  \\\n",
       "0          1    15634602  Hargrave          619    France  Female   42   \n",
       "1          2    15647311      Hill          608     Spain  Female   41   \n",
       "2          3    15619304      Onio          502    France  Female   42   \n",
       "3          4    15701354      Boni          699    France  Female   39   \n",
       "4          5    15737888  Mitchell          850     Spain  Female   43   \n",
       "\n",
       "   Tenure    Balance  NumOfProducts  HasCrCard  IsActiveMember  \\\n",
       "0       2       0.00              1          1               1   \n",
       "1       1   83807.86              1          0               1   \n",
       "2       8  159660.80              3          1               0   \n",
       "3       1       0.00              2          0               0   \n",
       "4       2  125510.82              1          1               1   \n",
       "\n",
       "   EstimatedSalary  Exited  \n",
       "0        101348.88       1  \n",
       "1        112542.58       0  \n",
       "2        113931.57       1  \n",
       "3         93826.63       0  \n",
       "4         79084.10       0  "
      ]
     },
     "execution_count": 2,
     "metadata": {},
     "output_type": "execute_result"
    }
   ],
   "source": [
    "df = pd.read_csv('bank.csv')\n",
    "df.head()"
   ]
  },
  {
   "cell_type": "markdown",
   "metadata": {},
   "source": [
    "**Data Preprocessing**"
   ]
  },
  {
   "cell_type": "code",
   "execution_count": 3,
   "metadata": {},
   "outputs": [],
   "source": [
    "df = df.drop(columns=['RowNumber','CustomerId','Surname'])"
   ]
  },
  {
   "cell_type": "markdown",
   "metadata": {},
   "source": [
    "**Splitting Imbalance Data**"
   ]
  },
  {
   "cell_type": "code",
   "execution_count": 4,
   "metadata": {},
   "outputs": [],
   "source": [
    "from sklearn.model_selection import train_test_split"
   ]
  },
  {
   "cell_type": "code",
   "execution_count": 5,
   "metadata": {},
   "outputs": [],
   "source": [
    "X = df.drop(columns='Exited')\n",
    "y = df['Exited']\n",
    "\n",
    "X_train, X_test, y_train, y_test = train_test_split(X, y, train_size = .90, stratify = y,random_state = 42)"
   ]
  },
  {
   "cell_type": "markdown",
   "metadata": {},
   "source": [
    "**Checking Imbalance Dataset**"
   ]
  },
  {
   "cell_type": "code",
   "execution_count": 6,
   "metadata": {},
   "outputs": [],
   "source": [
    "df_train = pd.concat([X_train, y_train], axis=1)"
   ]
  },
  {
   "cell_type": "code",
   "execution_count": 7,
   "metadata": {
    "scrolled": true
   },
   "outputs": [
    {
     "data": {
      "text/plain": [
       "0    7167\n",
       "1    1833\n",
       "Name: Exited, dtype: int64"
      ]
     },
     "execution_count": 7,
     "metadata": {},
     "output_type": "execute_result"
    }
   ],
   "source": [
    "df_train['Exited'].value_counts()"
   ]
  },
  {
   "cell_type": "markdown",
   "metadata": {},
   "source": [
    "**Over Sampled**"
   ]
  },
  {
   "cell_type": "code",
   "execution_count": 8,
   "metadata": {},
   "outputs": [],
   "source": [
    "from sklearn.utils import resample"
   ]
  },
  {
   "cell_type": "code",
   "execution_count": 9,
   "metadata": {},
   "outputs": [],
   "source": [
    "exited_no = df_train[df_train['Exited'] == 0]\n",
    "exited_yes = df_train[df_train['Exited'] == 1]\n",
    "\n",
    "exited_oversample = resample(exited_yes,\n",
    "                           replace=True,\n",
    "                           n_samples = len(exited_no),\n",
    "                           random_state = 42)"
   ]
  },
  {
   "cell_type": "code",
   "execution_count": 10,
   "metadata": {
    "scrolled": true
   },
   "outputs": [
    {
     "data": {
      "text/plain": [
       "1    7167\n",
       "0    7167\n",
       "Name: Exited, dtype: int64"
      ]
     },
     "execution_count": 10,
     "metadata": {},
     "output_type": "execute_result"
    }
   ],
   "source": [
    "df_OverSampled = pd.concat([exited_no, exited_oversample])\n",
    "\n",
    "df_OverSampled['Exited'].value_counts()"
   ]
  },
  {
   "cell_type": "code",
   "execution_count": 11,
   "metadata": {},
   "outputs": [],
   "source": [
    "df = df_OverSampled"
   ]
  },
  {
   "cell_type": "markdown",
   "metadata": {},
   "source": [
    "**Machine Learning Preprocessing**"
   ]
  },
  {
   "cell_type": "code",
   "execution_count": 12,
   "metadata": {},
   "outputs": [],
   "source": [
    "X_train = df.drop(columns='Exited')\n",
    "y_train = df['Exited']"
   ]
  },
  {
   "cell_type": "markdown",
   "metadata": {},
   "source": [
    "**Machine Learning**"
   ]
  },
  {
   "cell_type": "code",
   "execution_count": 13,
   "metadata": {},
   "outputs": [],
   "source": [
    "from sklearn.pipeline import Pipeline\n",
    "from sklearn.impute import SimpleImputer\n",
    "from sklearn.preprocessing import OneHotEncoder, LabelEncoder, MinMaxScaler, StandardScaler, RobustScaler\n",
    "from sklearn.linear_model import LogisticRegression\n",
    "from sklearn.neighbors import KNeighborsClassifier\n",
    "from sklearn.ensemble import RandomForestClassifier\n",
    "from sklearn.svm import SVC\n",
    "from sklearn.compose import ColumnTransformer\n",
    "from sklearn.metrics import classification_report, confusion_matrix, recall_score, precision_score, f1_score, accuracy_score"
   ]
  },
  {
   "cell_type": "code",
   "execution_count": 14,
   "metadata": {},
   "outputs": [],
   "source": [
    "cat_columns = [\"Gender\", \"Geography\"]\n",
    "\n",
    "num_columns = [\"Age\", \"CreditScore\", \"Tenure\", \"Balance\", \"NumOfProducts\", \"HasCrCard\", \"IsActiveMember\", \"EstimatedSalary\"]"
   ]
  },
  {
   "cell_type": "code",
   "execution_count": 15,
   "metadata": {},
   "outputs": [],
   "source": [
    "numerical_pipeline = Pipeline([\n",
    "    ('imputer', SimpleImputer(strategy='mean'))\n",
    "])\n",
    "\n",
    "numerical_pipeline_s = Pipeline([\n",
    "    ('imputer', SimpleImputer(strategy='mean')),\n",
    "    ('scaler', StandardScaler())\n",
    "])\n",
    "\n",
    "categorical_pipeline = Pipeline([\n",
    "    ('imputer', SimpleImputer(strategy='most_frequent')),\n",
    "    ('encoder', OneHotEncoder())\n",
    "])\n",
    "\n",
    "preprocessor = ColumnTransformer([\n",
    "    ('numeric', numerical_pipeline, num_columns),\n",
    "    ('categorical', categorical_pipeline, cat_columns)\n",
    "])\n",
    "\n",
    "preprocessor_s = ColumnTransformer([\n",
    "    ('numeric', numerical_pipeline_s, num_columns),\n",
    "    ('categorical', categorical_pipeline, cat_columns)\n",
    "])"
   ]
  },
  {
   "cell_type": "code",
   "execution_count": 16,
   "metadata": {},
   "outputs": [],
   "source": [
    "pipe_Log = Pipeline([\n",
    "    (\"prep\", preprocessor),\n",
    "    (\"algo\", LogisticRegression())\n",
    "])\n",
    "\n",
    "pipe_KNN = Pipeline([\n",
    "    (\"prep\", preprocessor_s),\n",
    "    (\"algo\", KNeighborsClassifier())\n",
    "])"
   ]
  },
  {
   "cell_type": "code",
   "execution_count": 17,
   "metadata": {},
   "outputs": [],
   "source": [
    "pipe_RF = Pipeline([\n",
    "    (\"prep\", preprocessor),\n",
    "    (\"algo\", RandomForestClassifier())\n",
    "])\n",
    "\n",
    "pipe_SVC = Pipeline([\n",
    "    (\"prep\", preprocessor_s),\n",
    "    (\"algo\", SVC(max_iter = 10))\n",
    "])"
   ]
  },
  {
   "cell_type": "code",
   "execution_count": 18,
   "metadata": {
    "scrolled": true
   },
   "outputs": [
    {
     "data": {
      "text/plain": [
       "Pipeline(steps=[('prep',\n",
       "                 ColumnTransformer(transformers=[('numeric',\n",
       "                                                  Pipeline(steps=[('imputer',\n",
       "                                                                   SimpleImputer()),\n",
       "                                                                  ('scaler',\n",
       "                                                                   StandardScaler())]),\n",
       "                                                  ['Age', 'CreditScore',\n",
       "                                                   'Tenure', 'Balance',\n",
       "                                                   'NumOfProducts', 'HasCrCard',\n",
       "                                                   'IsActiveMember',\n",
       "                                                   'EstimatedSalary']),\n",
       "                                                 ('categorical',\n",
       "                                                  Pipeline(steps=[('imputer',\n",
       "                                                                   SimpleImputer(strategy='most_frequent')),\n",
       "                                                                  ('encoder',\n",
       "                                                                   OneHotEncoder())]),\n",
       "                                                  ['Gender', 'Geography'])])),\n",
       "                ('algo', SVC(max_iter=10))])"
      ]
     },
     "execution_count": 18,
     "metadata": {},
     "output_type": "execute_result"
    }
   ],
   "source": [
    "pipe_Log.fit(X_train, y_train)\n",
    "pipe_KNN.fit(X_train, y_train)\n",
    "pipe_RF.fit(X_train, y_train)\n",
    "pipe_SVC.fit(X_train, y_train)"
   ]
  },
  {
   "cell_type": "code",
   "execution_count": 19,
   "metadata": {},
   "outputs": [],
   "source": [
    "y_pred_Logtr = pipe_Log.predict(X_train)\n",
    "acc_Logtr = accuracy_score(y_train, y_pred_Logtr)\n",
    "prec_Logtr = precision_score(y_train, y_pred_Logtr)\n",
    "rec0_Logtr = recall_score (y_train, y_pred_Logtr, pos_label=0)\n",
    "rec1_Logtr = recall_score(y_train, y_pred_Logtr, pos_label=1)\n",
    "f1_Logtr = f1_score(y_train, y_pred_Logtr)\n",
    "\n",
    "y_pred_KNNtr = pipe_KNN.predict(X_train)\n",
    "acc_KNNtr = accuracy_score(y_train, y_pred_KNNtr)\n",
    "prec_KNNtr = precision_score(y_train, y_pred_KNNtr)\n",
    "rec0_KNNtr = recall_score (y_train, y_pred_KNNtr, pos_label=0)\n",
    "rec1_KNNtr = recall_score(y_train, y_pred_KNNtr, pos_label=1)\n",
    "f1_KNNtr = f1_score(y_train, y_pred_KNNtr)\n",
    "\n",
    "y_pred_RFtr = pipe_RF.predict(X_train)\n",
    "acc_RFtr = accuracy_score(y_train, y_pred_RFtr)\n",
    "prec_RFtr = precision_score(y_train, y_pred_RFtr)\n",
    "rec0_RFtr = recall_score (y_train, y_pred_RFtr, pos_label=0)\n",
    "rec1_RFtr = recall_score(y_train, y_pred_RFtr, pos_label=1)\n",
    "f1_RFtr = f1_score(y_train, y_pred_RFtr)\n",
    "\n",
    "y_pred_SVCtr = pipe_SVC.predict(X_train)\n",
    "acc_SVCtr = accuracy_score(y_train, y_pred_SVCtr)\n",
    "prec_SVCtr = precision_score(y_train, y_pred_SVCtr)\n",
    "rec0_SVCtr = recall_score (y_train, y_pred_SVCtr, pos_label=0)\n",
    "rec1_SVCtr = recall_score(y_train, y_pred_SVCtr, pos_label=1)\n",
    "f1_SVCtr = f1_score(y_train, y_pred_SVCtr)\n",
    "\n",
    "\n",
    "y_pred_Logts = pipe_Log.predict(X_test)\n",
    "acc_Logts = accuracy_score(y_test, y_pred_Logts)\n",
    "prec_Logts = precision_score(y_test, y_pred_Logts)\n",
    "rec0_Logts = recall_score (y_test, y_pred_Logts, pos_label=0)\n",
    "rec1_Logts = recall_score(y_test, y_pred_Logts, pos_label=1)\n",
    "f1_Logts = f1_score(y_test, y_pred_Logts)\n",
    "\n",
    "y_pred_KNNts = pipe_KNN.predict(X_test)\n",
    "acc_KNNts = accuracy_score(y_test, y_pred_KNNts)\n",
    "prec_KNNts = precision_score(y_test, y_pred_KNNts)\n",
    "rec0_KNNts = recall_score (y_test, y_pred_KNNts, pos_label=0)\n",
    "rec1_KNNts = recall_score(y_test, y_pred_KNNts, pos_label=1)\n",
    "f1_KNNts = f1_score(y_test, y_pred_KNNts)\n",
    "\n",
    "y_pred_RFts = pipe_RF.predict(X_test)\n",
    "acc_RFts = accuracy_score(y_test, y_pred_RFts)\n",
    "prec_RFts = precision_score(y_test, y_pred_RFts)\n",
    "rec0_RFts = recall_score (y_test, y_pred_RFts, pos_label=0)\n",
    "rec1_RFts = recall_score(y_test, y_pred_RFts, pos_label=1)\n",
    "f1_RFts = f1_score(y_test, y_pred_RFts)\n",
    "\n",
    "y_pred_SVCts = pipe_SVC.predict(X_test)\n",
    "acc_SVCts = accuracy_score(y_test, y_pred_SVCts)\n",
    "prec_SVCts = precision_score(y_test, y_pred_SVCts)\n",
    "rec0_SVCts = recall_score (y_test, y_pred_SVCts, pos_label=0)\n",
    "rec1_SVCts = recall_score(y_test, y_pred_SVCts, pos_label=1)\n",
    "f1_SVCts = f1_score(y_test, y_pred_SVCts)"
   ]
  },
  {
   "cell_type": "code",
   "execution_count": 20,
   "metadata": {},
   "outputs": [
    {
     "data": {
      "text/html": [
       "<div>\n",
       "<style scoped>\n",
       "    .dataframe tbody tr th:only-of-type {\n",
       "        vertical-align: middle;\n",
       "    }\n",
       "\n",
       "    .dataframe tbody tr th {\n",
       "        vertical-align: top;\n",
       "    }\n",
       "\n",
       "    .dataframe thead th {\n",
       "        text-align: right;\n",
       "    }\n",
       "</style>\n",
       "<table border=\"1\" class=\"dataframe\">\n",
       "  <thead>\n",
       "    <tr style=\"text-align: right;\">\n",
       "      <th></th>\n",
       "      <th>LogReg Train</th>\n",
       "      <th>LogReg Test</th>\n",
       "      <th>KNN Train</th>\n",
       "      <th>KNN Test</th>\n",
       "      <th>RF Train</th>\n",
       "      <th>RF Test</th>\n",
       "      <th>SVC Train</th>\n",
       "      <th>SVC Test</th>\n",
       "    </tr>\n",
       "  </thead>\n",
       "  <tbody>\n",
       "    <tr>\n",
       "      <th>Accuracy</th>\n",
       "      <td>0.662969</td>\n",
       "      <td>0.648000</td>\n",
       "      <td>0.898981</td>\n",
       "      <td>0.729000</td>\n",
       "      <td>1.0</td>\n",
       "      <td>0.840000</td>\n",
       "      <td>0.497140</td>\n",
       "      <td>0.774000</td>\n",
       "    </tr>\n",
       "    <tr>\n",
       "      <th>Precision</th>\n",
       "      <td>0.659389</td>\n",
       "      <td>0.323810</td>\n",
       "      <td>0.849872</td>\n",
       "      <td>0.397554</td>\n",
       "      <td>1.0</td>\n",
       "      <td>0.634146</td>\n",
       "      <td>0.430034</td>\n",
       "      <td>0.156250</td>\n",
       "    </tr>\n",
       "    <tr>\n",
       "      <th>Recall</th>\n",
       "      <td>0.674201</td>\n",
       "      <td>0.666667</td>\n",
       "      <td>0.969164</td>\n",
       "      <td>0.637255</td>\n",
       "      <td>1.0</td>\n",
       "      <td>0.509804</td>\n",
       "      <td>0.017581</td>\n",
       "      <td>0.024510</td>\n",
       "    </tr>\n",
       "    <tr>\n",
       "      <th>F1 Score</th>\n",
       "      <td>0.666713</td>\n",
       "      <td>0.435897</td>\n",
       "      <td>0.905606</td>\n",
       "      <td>0.489642</td>\n",
       "      <td>1.0</td>\n",
       "      <td>0.565217</td>\n",
       "      <td>0.033780</td>\n",
       "      <td>0.042373</td>\n",
       "    </tr>\n",
       "  </tbody>\n",
       "</table>\n",
       "</div>"
      ],
      "text/plain": [
       "           LogReg Train  LogReg Test  KNN Train  KNN Test  RF Train   RF Test  \\\n",
       "Accuracy       0.662969     0.648000   0.898981  0.729000       1.0  0.840000   \n",
       "Precision      0.659389     0.323810   0.849872  0.397554       1.0  0.634146   \n",
       "Recall         0.674201     0.666667   0.969164  0.637255       1.0  0.509804   \n",
       "F1 Score       0.666713     0.435897   0.905606  0.489642       1.0  0.565217   \n",
       "\n",
       "           SVC Train  SVC Test  \n",
       "Accuracy    0.497140  0.774000  \n",
       "Precision   0.430034  0.156250  \n",
       "Recall      0.017581  0.024510  \n",
       "F1 Score    0.033780  0.042373  "
      ]
     },
     "execution_count": 20,
     "metadata": {},
     "output_type": "execute_result"
    }
   ],
   "source": [
    "data = {\n",
    "    \"LogReg Train\" : [acc_Logtr, prec_Logtr, rec1_Logtr, f1_Logtr],\n",
    "    \"LogReg Test\" : [acc_Logts, prec_Logts, rec1_Logts, f1_Logts],\n",
    "    \"KNN Train\" : [acc_KNNtr, prec_KNNtr, rec1_KNNtr, f1_KNNtr],\n",
    "    \"KNN Test\" : [acc_KNNts, prec_KNNts, rec1_KNNts, f1_KNNts],\n",
    "    \"RF Train\" : [acc_RFtr, prec_RFtr, rec1_RFtr, f1_RFtr],\n",
    "    \"RF Test\" : [acc_RFts, prec_RFts, rec1_RFts, f1_RFts],\n",
    "    \"SVC Train\" : [acc_SVCtr, prec_SVCtr, rec1_SVCtr, f1_SVCtr],\n",
    "    \"SVC Test\" : [acc_SVCts, prec_SVCts, rec1_SVCts, f1_SVCts]\n",
    "}\n",
    "pd.DataFrame(data=data, index=['Accuracy', 'Precision', 'Recall', 'F1 Score'])"
   ]
  },
  {
   "cell_type": "markdown",
   "metadata": {},
   "source": [
    "**Hyperparameter Tuning**"
   ]
  },
  {
   "cell_type": "markdown",
   "metadata": {},
   "source": [
    "Parameter"
   ]
  },
  {
   "cell_type": "code",
   "execution_count": 21,
   "metadata": {},
   "outputs": [],
   "source": [
    "Param_Log = {\n",
    "    \"algo__penalty\" : [\"l1\",\"l2\",\"elasticnet\",\"none\"],\n",
    "    \"algo__class_weight\" : [dict, \"balanced\"],\n",
    "    \"algo__max_iter\" : [10,100,500],\n",
    "    \"algo__intercept_scaling\" : [1,5,10]\n",
    "}\n",
    "\n",
    "Param_KNN = {\n",
    "    \"algo__n_neighbors\" : [1,3,5],\n",
    "    \"algo__weights\" : [\"distance\",\"uniform\"],\n",
    "    \"algo__leaf_size\" : [1,5,15]\n",
    "}\n",
    "\n",
    "Param_RF = {\n",
    "    \"algo__n_estimators\" : [50,300],\n",
    "     #\"max_depth\" : [8],\n",
    "     \"algo__min_samples_split\" : [2,5],\n",
    "     \"algo__min_samples_leaf\" : [1,2]\n",
    "}\n",
    "\n",
    "Param_SVC = {\n",
    "    \"algo__max_iter\" : [10,100],\n",
    "    \"algo__kernel\" : ['poly', 'rbf', 'sigmoid']\n",
    "}"
   ]
  },
  {
   "cell_type": "code",
   "execution_count": 22,
   "metadata": {},
   "outputs": [],
   "source": [
    "# pipe_Log.get_params()\n",
    "# pipe_KNN.get_params()\n",
    "# pipe_RF.get_params()\n",
    "# pipe_SVC.get_params()"
   ]
  },
  {
   "cell_type": "code",
   "execution_count": 23,
   "metadata": {},
   "outputs": [],
   "source": [
    "from sklearn.model_selection import GridSearchCV"
   ]
  },
  {
   "cell_type": "markdown",
   "metadata": {},
   "source": [
    "**Logistic Regression Tuning**"
   ]
  },
  {
   "cell_type": "code",
   "execution_count": 24,
   "metadata": {},
   "outputs": [
    {
     "name": "stdout",
     "output_type": "stream",
     "text": [
      "Fitting 3 folds for each of 72 candidates, totalling 216 fits\n"
     ]
    },
    {
     "name": "stderr",
     "output_type": "stream",
     "text": [
      "[Parallel(n_jobs=-1)]: Using backend LokyBackend with 6 concurrent workers.\n",
      "[Parallel(n_jobs=-1)]: Done  38 tasks      | elapsed:    6.9s\n",
      "[Parallel(n_jobs=-1)]: Done 188 tasks      | elapsed:   12.8s\n",
      "[Parallel(n_jobs=-1)]: Done 216 out of 216 | elapsed:   14.1s finished\n"
     ]
    },
    {
     "name": "stdout",
     "output_type": "stream",
     "text": [
      "Best Score : 0.6621319938607506\n",
      "Tuned recall LogReg Tuned Train :  0.6742011999441886\n",
      "Tuned recall LogReg Tuned Test :  0.6666666666666666\n"
     ]
    }
   ],
   "source": [
    "model_tuned_1 = GridSearchCV(estimator=pipe_Log, param_grid=Param_Log, cv = 3, n_jobs=-1, verbose=1)\n",
    "\n",
    "model_tuned_1.fit(X_train, y_train)\n",
    "model_tuned_1.best_score_\n",
    "model_tuned_1_1 = model_tuned_1.best_estimator_\n",
    "y_tune_1_train = model_tuned_1_1.predict(X_train)\n",
    "y_tune_1_test = model_tuned_1_1.predict(X_test)\n",
    "\n",
    "print('Best Score :',model_tuned_1.best_score_)\n",
    "print('Tuned recall LogReg Tuned Train : ', recall_score(y_train, y_tune_1_train))\n",
    "print('Tuned recall LogReg Tuned Test : ', recall_score(y_test, y_tune_1_test))"
   ]
  },
  {
   "cell_type": "markdown",
   "metadata": {},
   "source": [
    "**KNN Tuning**"
   ]
  },
  {
   "cell_type": "code",
   "execution_count": 25,
   "metadata": {},
   "outputs": [
    {
     "name": "stdout",
     "output_type": "stream",
     "text": [
      "Fitting 3 folds for each of 18 candidates, totalling 54 fits\n"
     ]
    },
    {
     "name": "stderr",
     "output_type": "stream",
     "text": [
      "[Parallel(n_jobs=-1)]: Using backend LokyBackend with 6 concurrent workers.\n",
      "[Parallel(n_jobs=-1)]: Done  38 tasks      | elapsed:    7.3s\n",
      "[Parallel(n_jobs=-1)]: Done  54 out of  54 | elapsed:    9.7s finished\n"
     ]
    },
    {
     "name": "stdout",
     "output_type": "stream",
     "text": [
      "Best Score : 0.9037951723175667\n",
      "Tuned recall KNN Tuned Train :  1.0\n",
      "Tuned recall KNN Tuned Test :  0.45098039215686275\n"
     ]
    }
   ],
   "source": [
    "model_tuned_2 = GridSearchCV(estimator=pipe_KNN, param_grid=Param_KNN, cv = 3, n_jobs=-1, verbose=1)\n",
    "\n",
    "model_tuned_2.fit(X_train, y_train)\n",
    "model_tuned_2.best_score_\n",
    "model_tuned_2_1 = model_tuned_2.best_estimator_\n",
    "y_tune_2_train = model_tuned_2_1.predict(X_train)\n",
    "y_tune_2_test = model_tuned_2_1.predict(X_test)\n",
    "\n",
    "print('Best Score :',model_tuned_2.best_score_)\n",
    "print('Tuned recall KNN Tuned Train : ', recall_score(y_train, y_tune_2_train))\n",
    "print('Tuned recall KNN Tuned Test : ', recall_score(y_test, y_tune_2_test))"
   ]
  },
  {
   "cell_type": "markdown",
   "metadata": {},
   "source": [
    "**Random Forest Tuning**"
   ]
  },
  {
   "cell_type": "code",
   "execution_count": 26,
   "metadata": {},
   "outputs": [
    {
     "name": "stdout",
     "output_type": "stream",
     "text": [
      "Fitting 3 folds for each of 8 candidates, totalling 24 fits\n"
     ]
    },
    {
     "name": "stderr",
     "output_type": "stream",
     "text": [
      "[Parallel(n_jobs=-1)]: Using backend LokyBackend with 6 concurrent workers.\n",
      "[Parallel(n_jobs=-1)]: Done  24 out of  24 | elapsed:   20.1s finished\n"
     ]
    },
    {
     "name": "stdout",
     "output_type": "stream",
     "text": [
      "Best Score : 0.9373517510813452\n",
      "Tuned recall RF Tuned Train :  1.0\n",
      "Tuned recall RF Tuned Test :  0.5049019607843137\n"
     ]
    }
   ],
   "source": [
    "model_tuned_3 = GridSearchCV(estimator=pipe_RF, param_grid=Param_RF, cv = 3, n_jobs=-1, verbose=1)\n",
    "\n",
    "model_tuned_3.fit(X_train, y_train)\n",
    "model_tuned_3.best_score_\n",
    "model_tuned_3_1 = model_tuned_3.best_estimator_\n",
    "y_tune_3_train = model_tuned_3_1.predict(X_train)\n",
    "y_tune_3_test = model_tuned_3_1.predict(X_test)\n",
    "\n",
    "print('Best Score :',model_tuned_3.best_score_)\n",
    "print('Tuned recall RF Tuned Train : ', recall_score(y_train, y_tune_3_train))\n",
    "print('Tuned recall RF Tuned Test : ', recall_score(y_test, y_tune_3_test))"
   ]
  },
  {
   "cell_type": "markdown",
   "metadata": {},
   "source": [
    "**SVC Tuning**"
   ]
  },
  {
   "cell_type": "code",
   "execution_count": 27,
   "metadata": {},
   "outputs": [
    {
     "name": "stdout",
     "output_type": "stream",
     "text": [
      "Fitting 3 folds for each of 6 candidates, totalling 18 fits\n"
     ]
    },
    {
     "name": "stderr",
     "output_type": "stream",
     "text": [
      "[Parallel(n_jobs=-1)]: Using backend LokyBackend with 6 concurrent workers.\n",
      "[Parallel(n_jobs=-1)]: Done  18 out of  18 | elapsed:    1.3s finished\n"
     ]
    },
    {
     "name": "stdout",
     "output_type": "stream",
     "text": [
      "Best Score : 0.6089019115389982\n",
      "Tuned recall SVC Tuned Train :  0.15222547788474955\n",
      "Tuned recall SVC Tuned Test :  0.09313725490196079\n"
     ]
    }
   ],
   "source": [
    "model_tuned_4 = GridSearchCV(estimator=pipe_SVC, param_grid=Param_SVC, cv = 3, n_jobs=-1, verbose=1)\n",
    "\n",
    "model_tuned_4.fit(X_train, y_train)\n",
    "model_tuned_4.best_score_\n",
    "model_tuned_4_1 = model_tuned_4.best_estimator_\n",
    "y_tune_4_train = model_tuned_4_1.predict(X_train)\n",
    "y_tune_4_test = model_tuned_4_1.predict(X_test)\n",
    "\n",
    "print('Best Score :',model_tuned_4.best_score_)\n",
    "print('Tuned recall SVC Tuned Train : ', recall_score(y_train, y_tune_4_train))\n",
    "print('Tuned recall SVC Tuned Test : ', recall_score(y_test, y_tune_4_test))"
   ]
  },
  {
   "cell_type": "markdown",
   "metadata": {},
   "source": [
    "**Evaluation Metrics Tuned**"
   ]
  },
  {
   "cell_type": "code",
   "execution_count": 28,
   "metadata": {},
   "outputs": [],
   "source": [
    "acc_Logtr_tuned = accuracy_score(y_train, y_tune_1_train)\n",
    "prec_Logtr_tuned = precision_score(y_train, y_tune_1_train)\n",
    "rec0_Logtr_tuned = recall_score(y_train, y_tune_1_train, pos_label=0)\n",
    "rec1_Logtr_tuned = recall_score(y_train, y_tune_1_train, pos_label=1)\n",
    "f1_Logtr_tuned = f1_score(y_train, y_tune_1_train)\n",
    "\n",
    "acc_KNNtr_tuned = accuracy_score(y_train, y_tune_2_train)\n",
    "prec_KNNtr_tuned = precision_score(y_train, y_tune_2_train)\n",
    "rec0_KNNtr_tuned = recall_score(y_train, y_tune_2_train, pos_label=0)\n",
    "rec1_KNNtr_tuned = recall_score(y_train, y_tune_2_train, pos_label=1)\n",
    "f1_KNNtr_tuned = f1_score(y_train, y_tune_2_train)\n",
    "\n",
    "acc_RFtr_tuned = accuracy_score(y_train, y_tune_3_train)\n",
    "prec_RFtr_tuned = precision_score(y_train, y_tune_3_train)\n",
    "rec0_RFtr_tuned = recall_score(y_train, y_tune_3_train, pos_label=0)\n",
    "rec1_RFtr_tuned = recall_score(y_train, y_tune_3_train, pos_label=1)\n",
    "f1_RFtr_tuned = f1_score(y_train, y_tune_3_train)\n",
    "\n",
    "acc_SVCtr_tuned = accuracy_score(y_train, y_tune_4_train)\n",
    "prec_SVCtr_tuned = precision_score(y_train, y_tune_4_train)\n",
    "rec0_SVCtr_tuned = recall_score(y_train, y_tune_4_train, pos_label=0)\n",
    "rec1_SVCtr_tuned = recall_score(y_train, y_tune_4_train, pos_label=1)\n",
    "f1_SVCtr_tuned = f1_score(y_train, y_tune_4_train)\n",
    "\n",
    "\n",
    "acc_Logts_tuned = accuracy_score(y_test, y_tune_1_test)\n",
    "prec_Logts_tuned = precision_score(y_test, y_tune_1_test)\n",
    "rec0_Logts_tuned = recall_score(y_test, y_tune_1_test, pos_label=0)\n",
    "rec1_Logts_tuned = recall_score(y_test, y_tune_1_test, pos_label=1)\n",
    "f1_Logts_tuned = f1_score(y_test, y_tune_1_test)\n",
    "\n",
    "acc_KNNts_tuned = accuracy_score(y_test, y_tune_2_test)\n",
    "prec_KNNts_tuned = precision_score(y_test, y_tune_2_test)\n",
    "rec0_KNNts_tuned = recall_score(y_test, y_tune_2_test, pos_label=0)\n",
    "rec1_KNNts_tuned = recall_score(y_test, y_tune_2_test, pos_label=1)\n",
    "f1_KNNts_tuned = f1_score(y_test, y_tune_2_test)\n",
    "\n",
    "acc_RFts_tuned = accuracy_score(y_test, y_tune_3_test)\n",
    "prec_RFts_tuned = precision_score(y_test, y_tune_3_test)\n",
    "rec0_RFts_tuned = recall_score(y_test, y_tune_3_test, pos_label=0)\n",
    "rec1_RFts_tuned = recall_score(y_test, y_tune_3_test, pos_label=1)\n",
    "f1_RFts_tuned = f1_score(y_test, y_tune_3_test)\n",
    "\n",
    "acc_SVCts_tuned = accuracy_score(y_test, y_tune_4_test)\n",
    "prec_SVCts_tuned = precision_score(y_test, y_tune_4_test)\n",
    "rec0_SVCts_tuned = recall_score(y_test, y_tune_4_test, pos_label=0)\n",
    "rec1_SVCts_tuned = recall_score(y_test, y_tune_4_test, pos_label=1)\n",
    "f1_SVCts_tuned = f1_score(y_test, y_tune_4_test)"
   ]
  },
  {
   "cell_type": "code",
   "execution_count": 29,
   "metadata": {},
   "outputs": [
    {
     "data": {
      "text/html": [
       "<div>\n",
       "<style scoped>\n",
       "    .dataframe tbody tr th:only-of-type {\n",
       "        vertical-align: middle;\n",
       "    }\n",
       "\n",
       "    .dataframe tbody tr th {\n",
       "        vertical-align: top;\n",
       "    }\n",
       "\n",
       "    .dataframe thead th {\n",
       "        text-align: right;\n",
       "    }\n",
       "</style>\n",
       "<table border=\"1\" class=\"dataframe\">\n",
       "  <thead>\n",
       "    <tr style=\"text-align: right;\">\n",
       "      <th></th>\n",
       "      <th>LogReg Tuned Train</th>\n",
       "      <th>LogReg Tuned Test</th>\n",
       "      <th>KNN Tuned Train</th>\n",
       "      <th>KNN Tuned Test</th>\n",
       "      <th>RF Tuned Train</th>\n",
       "      <th>RF Tuned Test</th>\n",
       "      <th>SVC Tuned Train</th>\n",
       "      <th>SVC Tuned Test</th>\n",
       "    </tr>\n",
       "  </thead>\n",
       "  <tbody>\n",
       "    <tr>\n",
       "      <th>Accuracy</th>\n",
       "      <td>0.662969</td>\n",
       "      <td>0.648000</td>\n",
       "      <td>1.0</td>\n",
       "      <td>0.784000</td>\n",
       "      <td>1.0</td>\n",
       "      <td>0.839000</td>\n",
       "      <td>0.533417</td>\n",
       "      <td>0.724000</td>\n",
       "    </tr>\n",
       "    <tr>\n",
       "      <th>Precision</th>\n",
       "      <td>0.659389</td>\n",
       "      <td>0.323810</td>\n",
       "      <td>1.0</td>\n",
       "      <td>0.469388</td>\n",
       "      <td>1.0</td>\n",
       "      <td>0.631902</td>\n",
       "      <td>0.640634</td>\n",
       "      <td>0.172727</td>\n",
       "    </tr>\n",
       "    <tr>\n",
       "      <th>Recall</th>\n",
       "      <td>0.674201</td>\n",
       "      <td>0.666667</td>\n",
       "      <td>1.0</td>\n",
       "      <td>0.450980</td>\n",
       "      <td>1.0</td>\n",
       "      <td>0.504902</td>\n",
       "      <td>0.152225</td>\n",
       "      <td>0.093137</td>\n",
       "    </tr>\n",
       "    <tr>\n",
       "      <th>F1 Score</th>\n",
       "      <td>0.666713</td>\n",
       "      <td>0.435897</td>\n",
       "      <td>1.0</td>\n",
       "      <td>0.460000</td>\n",
       "      <td>1.0</td>\n",
       "      <td>0.561308</td>\n",
       "      <td>0.245998</td>\n",
       "      <td>0.121019</td>\n",
       "    </tr>\n",
       "  </tbody>\n",
       "</table>\n",
       "</div>"
      ],
      "text/plain": [
       "           LogReg Tuned Train  LogReg Tuned Test  KNN Tuned Train  \\\n",
       "Accuracy             0.662969           0.648000              1.0   \n",
       "Precision            0.659389           0.323810              1.0   \n",
       "Recall               0.674201           0.666667              1.0   \n",
       "F1 Score             0.666713           0.435897              1.0   \n",
       "\n",
       "           KNN Tuned Test  RF Tuned Train  RF Tuned Test  SVC Tuned Train  \\\n",
       "Accuracy         0.784000             1.0       0.839000         0.533417   \n",
       "Precision        0.469388             1.0       0.631902         0.640634   \n",
       "Recall           0.450980             1.0       0.504902         0.152225   \n",
       "F1 Score         0.460000             1.0       0.561308         0.245998   \n",
       "\n",
       "           SVC Tuned Test  \n",
       "Accuracy         0.724000  \n",
       "Precision        0.172727  \n",
       "Recall           0.093137  \n",
       "F1 Score         0.121019  "
      ]
     },
     "execution_count": 29,
     "metadata": {},
     "output_type": "execute_result"
    }
   ],
   "source": [
    "data = {\n",
    "    \"LogReg Tuned Train\" : [acc_Logtr_tuned, prec_Logtr_tuned, rec1_Logtr_tuned, f1_Logtr_tuned],\n",
    "    \"LogReg Tuned Test\" : [acc_Logts_tuned, prec_Logts_tuned, rec1_Logts_tuned, f1_Logts_tuned],\n",
    "    \"KNN Tuned Train\" : [acc_KNNtr_tuned, prec_KNNtr_tuned, rec1_KNNtr_tuned, f1_KNNtr_tuned],\n",
    "    \"KNN Tuned Test\" : [acc_KNNts_tuned, prec_KNNts_tuned, rec1_KNNts_tuned, f1_KNNts_tuned],\n",
    "    \"RF Tuned Train\" : [acc_RFtr_tuned, prec_RFtr_tuned, rec1_RFtr_tuned, f1_RFtr_tuned],\n",
    "    \"RF Tuned Test\" : [acc_RFts_tuned, prec_RFts_tuned, rec1_RFts_tuned, f1_RFts_tuned],\n",
    "    \"SVC Tuned Train\" : [acc_SVCtr_tuned, prec_SVCtr_tuned, rec1_SVCtr_tuned, f1_SVCtr_tuned],\n",
    "    \"SVC Tuned Test\" : [acc_SVCts_tuned, prec_SVCts_tuned, rec1_SVCts_tuned, f1_SVCts_tuned]\n",
    "}\n",
    "pd.DataFrame(data=data, index=['Accuracy', 'Precision', 'Recall', 'F1 Score'])"
   ]
  },
  {
   "cell_type": "markdown",
   "metadata": {},
   "source": [
    "**Confusion Matrix**"
   ]
  },
  {
   "cell_type": "code",
   "execution_count": 30,
   "metadata": {},
   "outputs": [],
   "source": [
    "cmLog = confusion_matrix(y_test, y_tune_1_test, labels=[1, 0])\n",
    "dfLog = pd.DataFrame(data=cmLog, columns=['Prediction 1', 'Prediction 0'], index = ['Actual 1', 'Actual 0'])\n",
    "\n",
    "cmKNN = confusion_matrix(y_test, y_tune_2_test, labels=[1, 0])\n",
    "dfKNN = pd.DataFrame(data=cmKNN, columns=['Prediction 1', 'Prediction 0'], index = ['Actual 1', 'Actual 0'])\n",
    "\n",
    "cmRF = confusion_matrix(y_test, y_tune_3_test, labels=[1, 0])\n",
    "dfRF = pd.DataFrame(data=cmRF, columns=['Prediction 1', 'Prediction 0'], index = ['Actual 1', 'Actual 0'])\n",
    "\n",
    "cmSVC = confusion_matrix(y_test, y_tune_4_test, labels=[1, 0])\n",
    "dfSVC = pd.DataFrame(data=cmSVC, columns=['Prediction 1', 'Prediction 0'], index = ['Actual 1', 'Actual 0'])"
   ]
  },
  {
   "cell_type": "code",
   "execution_count": 31,
   "metadata": {
    "scrolled": true
   },
   "outputs": [
    {
     "data": {
      "image/png": "[encoded data removed]",
      "text/plain": [
       "<Figure size 1296x1296 with 8 Axes>"
      ]
     },
     "metadata": {
      "needs_background": "light"
     },
     "output_type": "display_data"
    }
   ],
   "source": [
    "plt.figure(figsize=(18, 18))\n",
    "\n",
    "plt.subplot(4,4,1)\n",
    "sns.heatmap(dfLog, annot=True)\n",
    "plt.title('Logistic Regression')\n",
    "\n",
    "plt.subplot(4,4,2)\n",
    "sns.heatmap(dfKNN, annot=True)\n",
    "plt.title('K Nearest Neighbor')\n",
    "\n",
    "plt.subplot(4,4,3)\n",
    "sns.heatmap(dfRF, annot=True)\n",
    "plt.title('Random Forest Classifier')\n",
    "\n",
    "plt.subplot(4,4,4)\n",
    "sns.heatmap(dfSVC, annot=True)\n",
    "plt.title('Support Vector Classification')\n",
    "\n",
    "plt.show()"
   ]
  }
 ],
 "metadata": {
  "kernelspec": {
   "display_name": "Python 3",
   "language": "python",
   "name": "python3"
  },
  "language_info": {
   "codemirror_mode": {
    "name": "ipython",
    "version": 3
   },
   "file_extension": ".py",
   "mimetype": "text/x-python",
   "name": "python",
   "nbconvert_exporter": "python",
   "pygments_lexer": "ipython3",
   "version": "3.8.3"
  }
 },
 "nbformat": 4,
 "nbformat_minor": 4
}
